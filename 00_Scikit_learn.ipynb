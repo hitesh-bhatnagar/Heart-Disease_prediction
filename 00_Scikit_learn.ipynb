{
  "nbformat": 4,
  "nbformat_minor": 0,
  "metadata": {
    "colab": {
      "provenance": [],
      "authorship_tag": "ABX9TyM94AnW5Oioj+YV8GNSDfdq",
      "include_colab_link": true
    },
    "kernelspec": {
      "name": "python3",
      "display_name": "Python 3"
    },
    "language_info": {
      "name": "python"
    }
  },
  "cells": [
    {
      "cell_type": "markdown",
      "metadata": {
        "id": "view-in-github",
        "colab_type": "text"
      },
      "source": [
        "<a href=\"https://colab.research.google.com/github/hitesh-bhatnagar/Heart-Disease_prediction/blob/main/00_Scikit_learn.ipynb\" target=\"_parent\"><img src=\"https://colab.research.google.com/assets/colab-badge.svg\" alt=\"Open In Colab\"/></a>"
      ]
    },
    {
      "cell_type": "markdown",
      "source": [
        "Machine learning modelling tutorial with python and scikit learn"
      ],
      "metadata": {
        "id": "5ZIo_36sqQa8"
      }
    },
    {
      "cell_type": "code",
      "execution_count": 1,
      "metadata": {
        "colab": {
          "base_uri": "https://localhost:8080/"
        },
        "id": "H3N8kgHjZyxU",
        "outputId": "06d7ec78-2dfc-45e1-a707-8f261389ee37"
      },
      "outputs": [
        {
          "output_type": "stream",
          "name": "stdout",
          "text": [
            "Last updated: {datetime.datetime.now()}\n"
          ]
        }
      ],
      "source": [
        "import datetime\n",
        "print(\"Last updated: {datetime.datetime.now()}\")"
      ]
    },
    {
      "cell_type": "code",
      "source": [
        "import matplotlib.pyplot as plt\n",
        "import numpy as np\n",
        "import pandas as pd\n",
        "import sklearn\n",
        "print('The scikit-learn version is {}.'.format(sklearn.__version__))"
      ],
      "metadata": {
        "colab": {
          "base_uri": "https://localhost:8080/"
        },
        "id": "VJ2qNDrjqiBK",
        "outputId": "44ea558e-a776-466f-ced6-de754d2f6759"
      },
      "execution_count": 2,
      "outputs": [
        {
          "output_type": "stream",
          "name": "stdout",
          "text": [
            "The scikit-learn version is 1.2.2.\n"
          ]
        }
      ]
    },
    {
      "cell_type": "markdown",
      "source": [
        "## Random Forest Classifier Workflow for Classifying Heart Disease\n",
        "\n",
        "1. Get the data"
      ],
      "metadata": {
        "id": "ZtNAA1ZFrliX"
      }
    },
    {
      "cell_type": "code",
      "source": [
        "from google.colab import files\n",
        "files.upload()"
      ],
      "metadata": {
        "colab": {
          "base_uri": "https://localhost:8080/",
          "height": 90
        },
        "id": "WdZrtMu7q667",
        "outputId": "bd5280ba-3062-4322-9558-1dec6c4f831b"
      },
      "execution_count": 3,
      "outputs": [
        {
          "output_type": "display_data",
          "data": {
            "text/plain": [
              "<IPython.core.display.HTML object>"
            ],
            "text/html": [
              "\n",
              "     <input type=\"file\" id=\"files-87c8158a-1c54-49b2-98e2-63aae5be9078\" name=\"files[]\" multiple disabled\n",
              "        style=\"border:none\" />\n",
              "     <output id=\"result-87c8158a-1c54-49b2-98e2-63aae5be9078\">\n",
              "      Upload widget is only available when the cell has been executed in the\n",
              "      current browser session. Please rerun this cell to enable.\n",
              "      </output>\n",
              "      <script>// Copyright 2017 Google LLC\n",
              "//\n",
              "// Licensed under the Apache License, Version 2.0 (the \"License\");\n",
              "// you may not use this file except in compliance with the License.\n",
              "// You may obtain a copy of the License at\n",
              "//\n",
              "//      http://www.apache.org/licenses/LICENSE-2.0\n",
              "//\n",
              "// Unless required by applicable law or agreed to in writing, software\n",
              "// distributed under the License is distributed on an \"AS IS\" BASIS,\n",
              "// WITHOUT WARRANTIES OR CONDITIONS OF ANY KIND, either express or implied.\n",
              "// See the License for the specific language governing permissions and\n",
              "// limitations under the License.\n",
              "\n",
              "/**\n",
              " * @fileoverview Helpers for google.colab Python module.\n",
              " */\n",
              "(function(scope) {\n",
              "function span(text, styleAttributes = {}) {\n",
              "  const element = document.createElement('span');\n",
              "  element.textContent = text;\n",
              "  for (const key of Object.keys(styleAttributes)) {\n",
              "    element.style[key] = styleAttributes[key];\n",
              "  }\n",
              "  return element;\n",
              "}\n",
              "\n",
              "// Max number of bytes which will be uploaded at a time.\n",
              "const MAX_PAYLOAD_SIZE = 100 * 1024;\n",
              "\n",
              "function _uploadFiles(inputId, outputId) {\n",
              "  const steps = uploadFilesStep(inputId, outputId);\n",
              "  const outputElement = document.getElementById(outputId);\n",
              "  // Cache steps on the outputElement to make it available for the next call\n",
              "  // to uploadFilesContinue from Python.\n",
              "  outputElement.steps = steps;\n",
              "\n",
              "  return _uploadFilesContinue(outputId);\n",
              "}\n",
              "\n",
              "// This is roughly an async generator (not supported in the browser yet),\n",
              "// where there are multiple asynchronous steps and the Python side is going\n",
              "// to poll for completion of each step.\n",
              "// This uses a Promise to block the python side on completion of each step,\n",
              "// then passes the result of the previous step as the input to the next step.\n",
              "function _uploadFilesContinue(outputId) {\n",
              "  const outputElement = document.getElementById(outputId);\n",
              "  const steps = outputElement.steps;\n",
              "\n",
              "  const next = steps.next(outputElement.lastPromiseValue);\n",
              "  return Promise.resolve(next.value.promise).then((value) => {\n",
              "    // Cache the last promise value to make it available to the next\n",
              "    // step of the generator.\n",
              "    outputElement.lastPromiseValue = value;\n",
              "    return next.value.response;\n",
              "  });\n",
              "}\n",
              "\n",
              "/**\n",
              " * Generator function which is called between each async step of the upload\n",
              " * process.\n",
              " * @param {string} inputId Element ID of the input file picker element.\n",
              " * @param {string} outputId Element ID of the output display.\n",
              " * @return {!Iterable<!Object>} Iterable of next steps.\n",
              " */\n",
              "function* uploadFilesStep(inputId, outputId) {\n",
              "  const inputElement = document.getElementById(inputId);\n",
              "  inputElement.disabled = false;\n",
              "\n",
              "  const outputElement = document.getElementById(outputId);\n",
              "  outputElement.innerHTML = '';\n",
              "\n",
              "  const pickedPromise = new Promise((resolve) => {\n",
              "    inputElement.addEventListener('change', (e) => {\n",
              "      resolve(e.target.files);\n",
              "    });\n",
              "  });\n",
              "\n",
              "  const cancel = document.createElement('button');\n",
              "  inputElement.parentElement.appendChild(cancel);\n",
              "  cancel.textContent = 'Cancel upload';\n",
              "  const cancelPromise = new Promise((resolve) => {\n",
              "    cancel.onclick = () => {\n",
              "      resolve(null);\n",
              "    };\n",
              "  });\n",
              "\n",
              "  // Wait for the user to pick the files.\n",
              "  const files = yield {\n",
              "    promise: Promise.race([pickedPromise, cancelPromise]),\n",
              "    response: {\n",
              "      action: 'starting',\n",
              "    }\n",
              "  };\n",
              "\n",
              "  cancel.remove();\n",
              "\n",
              "  // Disable the input element since further picks are not allowed.\n",
              "  inputElement.disabled = true;\n",
              "\n",
              "  if (!files) {\n",
              "    return {\n",
              "      response: {\n",
              "        action: 'complete',\n",
              "      }\n",
              "    };\n",
              "  }\n",
              "\n",
              "  for (const file of files) {\n",
              "    const li = document.createElement('li');\n",
              "    li.append(span(file.name, {fontWeight: 'bold'}));\n",
              "    li.append(span(\n",
              "        `(${file.type || 'n/a'}) - ${file.size} bytes, ` +\n",
              "        `last modified: ${\n",
              "            file.lastModifiedDate ? file.lastModifiedDate.toLocaleDateString() :\n",
              "                                    'n/a'} - `));\n",
              "    const percent = span('0% done');\n",
              "    li.appendChild(percent);\n",
              "\n",
              "    outputElement.appendChild(li);\n",
              "\n",
              "    const fileDataPromise = new Promise((resolve) => {\n",
              "      const reader = new FileReader();\n",
              "      reader.onload = (e) => {\n",
              "        resolve(e.target.result);\n",
              "      };\n",
              "      reader.readAsArrayBuffer(file);\n",
              "    });\n",
              "    // Wait for the data to be ready.\n",
              "    let fileData = yield {\n",
              "      promise: fileDataPromise,\n",
              "      response: {\n",
              "        action: 'continue',\n",
              "      }\n",
              "    };\n",
              "\n",
              "    // Use a chunked sending to avoid message size limits. See b/62115660.\n",
              "    let position = 0;\n",
              "    do {\n",
              "      const length = Math.min(fileData.byteLength - position, MAX_PAYLOAD_SIZE);\n",
              "      const chunk = new Uint8Array(fileData, position, length);\n",
              "      position += length;\n",
              "\n",
              "      const base64 = btoa(String.fromCharCode.apply(null, chunk));\n",
              "      yield {\n",
              "        response: {\n",
              "          action: 'append',\n",
              "          file: file.name,\n",
              "          data: base64,\n",
              "        },\n",
              "      };\n",
              "\n",
              "      let percentDone = fileData.byteLength === 0 ?\n",
              "          100 :\n",
              "          Math.round((position / fileData.byteLength) * 100);\n",
              "      percent.textContent = `${percentDone}% done`;\n",
              "\n",
              "    } while (position < fileData.byteLength);\n",
              "  }\n",
              "\n",
              "  // All done.\n",
              "  yield {\n",
              "    response: {\n",
              "      action: 'complete',\n",
              "    }\n",
              "  };\n",
              "}\n",
              "\n",
              "scope.google = scope.google || {};\n",
              "scope.google.colab = scope.google.colab || {};\n",
              "scope.google.colab._files = {\n",
              "  _uploadFiles,\n",
              "  _uploadFilesContinue,\n",
              "};\n",
              "})(self);\n",
              "</script> "
            ]
          },
          "metadata": {}
        },
        {
          "output_type": "stream",
          "name": "stdout",
          "text": [
            "Saving kaggle.json to kaggle.json\n"
          ]
        },
        {
          "output_type": "execute_result",
          "data": {
            "text/plain": [
              "{'kaggle.json': b'{\"username\":\"hiteshbhatnagar\",\"key\":\"e201a58ba519471d1d6c10af03d3d68e\"}'}"
            ]
          },
          "metadata": {},
          "execution_count": 3
        }
      ]
    },
    {
      "cell_type": "code",
      "source": [
        "!mkdir -p ~/.kaggle\n",
        "!cp kaggle.json ~/.kaggle/"
      ],
      "metadata": {
        "id": "7C9Mtx3Fr7Q3"
      },
      "execution_count": 4,
      "outputs": []
    },
    {
      "cell_type": "code",
      "source": [
        "!chmod 600 ~/.kaggle/kaggle.json"
      ],
      "metadata": {
        "id": "CnXHpPTHsqRY"
      },
      "execution_count": 5,
      "outputs": []
    },
    {
      "cell_type": "code",
      "source": [
        "!ls"
      ],
      "metadata": {
        "colab": {
          "base_uri": "https://localhost:8080/"
        },
        "id": "1UDjb76qsz27",
        "outputId": "ac3117e3-4d15-42b2-cf70-1bf7595208ce"
      },
      "execution_count": 6,
      "outputs": [
        {
          "output_type": "stream",
          "name": "stdout",
          "text": [
            "kaggle.json  sample_data\n"
          ]
        }
      ]
    },
    {
      "cell_type": "code",
      "source": [
        "!kaggle datasets download -d johnsmith88/heart-disease-dataset"
      ],
      "metadata": {
        "colab": {
          "base_uri": "https://localhost:8080/"
        },
        "id": "qK6He8oNstKZ",
        "outputId": "3f4e07c4-d08d-427e-a877-c2362491769f"
      },
      "execution_count": 7,
      "outputs": [
        {
          "output_type": "stream",
          "name": "stdout",
          "text": [
            "Dataset URL: https://www.kaggle.com/datasets/johnsmith88/heart-disease-dataset\n",
            "License(s): unknown\n",
            "Downloading heart-disease-dataset.zip to /content\n",
            "  0% 0.00/6.18k [00:00<?, ?B/s]\n",
            "100% 6.18k/6.18k [00:00<00:00, 14.9MB/s]\n"
          ]
        }
      ]
    },
    {
      "cell_type": "code",
      "source": [
        "import os\n",
        "os.listdir()"
      ],
      "metadata": {
        "colab": {
          "base_uri": "https://localhost:8080/"
        },
        "id": "Yt0-39X1s2Be",
        "outputId": "521a4c78-57c5-4ce2-b98c-4e1e1d192a73"
      },
      "execution_count": 8,
      "outputs": [
        {
          "output_type": "execute_result",
          "data": {
            "text/plain": [
              "['.config', 'kaggle.json', 'heart-disease-dataset.zip', 'sample_data']"
            ]
          },
          "metadata": {},
          "execution_count": 8
        }
      ]
    },
    {
      "cell_type": "code",
      "source": [
        "!unzip heart-disease-dataset.zip -d /content/"
      ],
      "metadata": {
        "colab": {
          "base_uri": "https://localhost:8080/"
        },
        "id": "bcQquLzMtDzi",
        "outputId": "56539111-c8cc-4e43-d790-29a08e0ad01f"
      },
      "execution_count": 9,
      "outputs": [
        {
          "output_type": "stream",
          "name": "stdout",
          "text": [
            "Archive:  heart-disease-dataset.zip\n",
            "  inflating: /content/heart.csv      \n"
          ]
        }
      ]
    },
    {
      "cell_type": "code",
      "source": [
        "!ls"
      ],
      "metadata": {
        "colab": {
          "base_uri": "https://localhost:8080/"
        },
        "id": "tLcrtlw-tinE",
        "outputId": "c03b2547-bc96-4127-cf82-6b83514e8412"
      },
      "execution_count": 10,
      "outputs": [
        {
          "output_type": "stream",
          "name": "stdout",
          "text": [
            "heart.csv  heart-disease-dataset.zip  kaggle.json  sample_data\n"
          ]
        }
      ]
    },
    {
      "cell_type": "code",
      "source": [
        "heart_disease= pd.read_csv('heart.csv')\n",
        "heart_disease.head()"
      ],
      "metadata": {
        "colab": {
          "base_uri": "https://localhost:8080/",
          "height": 206
        },
        "id": "_yGhDr-stvlo",
        "outputId": "5788f3e1-36a3-45bb-c45b-d66506814d89"
      },
      "execution_count": 11,
      "outputs": [
        {
          "output_type": "execute_result",
          "data": {
            "text/plain": [
              "   age  sex  cp  trestbps  chol  fbs  restecg  thalach  exang  oldpeak  slope  \\\n",
              "0   52    1   0       125   212    0        1      168      0      1.0      2   \n",
              "1   53    1   0       140   203    1        0      155      1      3.1      0   \n",
              "2   70    1   0       145   174    0        1      125      1      2.6      0   \n",
              "3   61    1   0       148   203    0        1      161      0      0.0      2   \n",
              "4   62    0   0       138   294    1        1      106      0      1.9      1   \n",
              "\n",
              "   ca  thal  target  \n",
              "0   2     3       0  \n",
              "1   0     3       0  \n",
              "2   0     3       0  \n",
              "3   1     3       0  \n",
              "4   3     2       0  "
            ],
            "text/html": [
              "\n",
              "  <div id=\"df-6b77193c-0f9a-4eae-b31d-b3698fd47952\" class=\"colab-df-container\">\n",
              "    <div>\n",
              "<style scoped>\n",
              "    .dataframe tbody tr th:only-of-type {\n",
              "        vertical-align: middle;\n",
              "    }\n",
              "\n",
              "    .dataframe tbody tr th {\n",
              "        vertical-align: top;\n",
              "    }\n",
              "\n",
              "    .dataframe thead th {\n",
              "        text-align: right;\n",
              "    }\n",
              "</style>\n",
              "<table border=\"1\" class=\"dataframe\">\n",
              "  <thead>\n",
              "    <tr style=\"text-align: right;\">\n",
              "      <th></th>\n",
              "      <th>age</th>\n",
              "      <th>sex</th>\n",
              "      <th>cp</th>\n",
              "      <th>trestbps</th>\n",
              "      <th>chol</th>\n",
              "      <th>fbs</th>\n",
              "      <th>restecg</th>\n",
              "      <th>thalach</th>\n",
              "      <th>exang</th>\n",
              "      <th>oldpeak</th>\n",
              "      <th>slope</th>\n",
              "      <th>ca</th>\n",
              "      <th>thal</th>\n",
              "      <th>target</th>\n",
              "    </tr>\n",
              "  </thead>\n",
              "  <tbody>\n",
              "    <tr>\n",
              "      <th>0</th>\n",
              "      <td>52</td>\n",
              "      <td>1</td>\n",
              "      <td>0</td>\n",
              "      <td>125</td>\n",
              "      <td>212</td>\n",
              "      <td>0</td>\n",
              "      <td>1</td>\n",
              "      <td>168</td>\n",
              "      <td>0</td>\n",
              "      <td>1.0</td>\n",
              "      <td>2</td>\n",
              "      <td>2</td>\n",
              "      <td>3</td>\n",
              "      <td>0</td>\n",
              "    </tr>\n",
              "    <tr>\n",
              "      <th>1</th>\n",
              "      <td>53</td>\n",
              "      <td>1</td>\n",
              "      <td>0</td>\n",
              "      <td>140</td>\n",
              "      <td>203</td>\n",
              "      <td>1</td>\n",
              "      <td>0</td>\n",
              "      <td>155</td>\n",
              "      <td>1</td>\n",
              "      <td>3.1</td>\n",
              "      <td>0</td>\n",
              "      <td>0</td>\n",
              "      <td>3</td>\n",
              "      <td>0</td>\n",
              "    </tr>\n",
              "    <tr>\n",
              "      <th>2</th>\n",
              "      <td>70</td>\n",
              "      <td>1</td>\n",
              "      <td>0</td>\n",
              "      <td>145</td>\n",
              "      <td>174</td>\n",
              "      <td>0</td>\n",
              "      <td>1</td>\n",
              "      <td>125</td>\n",
              "      <td>1</td>\n",
              "      <td>2.6</td>\n",
              "      <td>0</td>\n",
              "      <td>0</td>\n",
              "      <td>3</td>\n",
              "      <td>0</td>\n",
              "    </tr>\n",
              "    <tr>\n",
              "      <th>3</th>\n",
              "      <td>61</td>\n",
              "      <td>1</td>\n",
              "      <td>0</td>\n",
              "      <td>148</td>\n",
              "      <td>203</td>\n",
              "      <td>0</td>\n",
              "      <td>1</td>\n",
              "      <td>161</td>\n",
              "      <td>0</td>\n",
              "      <td>0.0</td>\n",
              "      <td>2</td>\n",
              "      <td>1</td>\n",
              "      <td>3</td>\n",
              "      <td>0</td>\n",
              "    </tr>\n",
              "    <tr>\n",
              "      <th>4</th>\n",
              "      <td>62</td>\n",
              "      <td>0</td>\n",
              "      <td>0</td>\n",
              "      <td>138</td>\n",
              "      <td>294</td>\n",
              "      <td>1</td>\n",
              "      <td>1</td>\n",
              "      <td>106</td>\n",
              "      <td>0</td>\n",
              "      <td>1.9</td>\n",
              "      <td>1</td>\n",
              "      <td>3</td>\n",
              "      <td>2</td>\n",
              "      <td>0</td>\n",
              "    </tr>\n",
              "  </tbody>\n",
              "</table>\n",
              "</div>\n",
              "    <div class=\"colab-df-buttons\">\n",
              "\n",
              "  <div class=\"colab-df-container\">\n",
              "    <button class=\"colab-df-convert\" onclick=\"convertToInteractive('df-6b77193c-0f9a-4eae-b31d-b3698fd47952')\"\n",
              "            title=\"Convert this dataframe to an interactive table.\"\n",
              "            style=\"display:none;\">\n",
              "\n",
              "  <svg xmlns=\"http://www.w3.org/2000/svg\" height=\"24px\" viewBox=\"0 -960 960 960\">\n",
              "    <path d=\"M120-120v-720h720v720H120Zm60-500h600v-160H180v160Zm220 220h160v-160H400v160Zm0 220h160v-160H400v160ZM180-400h160v-160H180v160Zm440 0h160v-160H620v160ZM180-180h160v-160H180v160Zm440 0h160v-160H620v160Z\"/>\n",
              "  </svg>\n",
              "    </button>\n",
              "\n",
              "  <style>\n",
              "    .colab-df-container {\n",
              "      display:flex;\n",
              "      gap: 12px;\n",
              "    }\n",
              "\n",
              "    .colab-df-convert {\n",
              "      background-color: #E8F0FE;\n",
              "      border: none;\n",
              "      border-radius: 50%;\n",
              "      cursor: pointer;\n",
              "      display: none;\n",
              "      fill: #1967D2;\n",
              "      height: 32px;\n",
              "      padding: 0 0 0 0;\n",
              "      width: 32px;\n",
              "    }\n",
              "\n",
              "    .colab-df-convert:hover {\n",
              "      background-color: #E2EBFA;\n",
              "      box-shadow: 0px 1px 2px rgba(60, 64, 67, 0.3), 0px 1px 3px 1px rgba(60, 64, 67, 0.15);\n",
              "      fill: #174EA6;\n",
              "    }\n",
              "\n",
              "    .colab-df-buttons div {\n",
              "      margin-bottom: 4px;\n",
              "    }\n",
              "\n",
              "    [theme=dark] .colab-df-convert {\n",
              "      background-color: #3B4455;\n",
              "      fill: #D2E3FC;\n",
              "    }\n",
              "\n",
              "    [theme=dark] .colab-df-convert:hover {\n",
              "      background-color: #434B5C;\n",
              "      box-shadow: 0px 1px 3px 1px rgba(0, 0, 0, 0.15);\n",
              "      filter: drop-shadow(0px 1px 2px rgba(0, 0, 0, 0.3));\n",
              "      fill: #FFFFFF;\n",
              "    }\n",
              "  </style>\n",
              "\n",
              "    <script>\n",
              "      const buttonEl =\n",
              "        document.querySelector('#df-6b77193c-0f9a-4eae-b31d-b3698fd47952 button.colab-df-convert');\n",
              "      buttonEl.style.display =\n",
              "        google.colab.kernel.accessAllowed ? 'block' : 'none';\n",
              "\n",
              "      async function convertToInteractive(key) {\n",
              "        const element = document.querySelector('#df-6b77193c-0f9a-4eae-b31d-b3698fd47952');\n",
              "        const dataTable =\n",
              "          await google.colab.kernel.invokeFunction('convertToInteractive',\n",
              "                                                    [key], {});\n",
              "        if (!dataTable) return;\n",
              "\n",
              "        const docLinkHtml = 'Like what you see? Visit the ' +\n",
              "          '<a target=\"_blank\" href=https://colab.research.google.com/notebooks/data_table.ipynb>data table notebook</a>'\n",
              "          + ' to learn more about interactive tables.';\n",
              "        element.innerHTML = '';\n",
              "        dataTable['output_type'] = 'display_data';\n",
              "        await google.colab.output.renderOutput(dataTable, element);\n",
              "        const docLink = document.createElement('div');\n",
              "        docLink.innerHTML = docLinkHtml;\n",
              "        element.appendChild(docLink);\n",
              "      }\n",
              "    </script>\n",
              "  </div>\n",
              "\n",
              "\n",
              "<div id=\"df-f0a74e26-e6b7-4bda-8792-4b9edc9689e8\">\n",
              "  <button class=\"colab-df-quickchart\" onclick=\"quickchart('df-f0a74e26-e6b7-4bda-8792-4b9edc9689e8')\"\n",
              "            title=\"Suggest charts\"\n",
              "            style=\"display:none;\">\n",
              "\n",
              "<svg xmlns=\"http://www.w3.org/2000/svg\" height=\"24px\"viewBox=\"0 0 24 24\"\n",
              "     width=\"24px\">\n",
              "    <g>\n",
              "        <path d=\"M19 3H5c-1.1 0-2 .9-2 2v14c0 1.1.9 2 2 2h14c1.1 0 2-.9 2-2V5c0-1.1-.9-2-2-2zM9 17H7v-7h2v7zm4 0h-2V7h2v10zm4 0h-2v-4h2v4z\"/>\n",
              "    </g>\n",
              "</svg>\n",
              "  </button>\n",
              "\n",
              "<style>\n",
              "  .colab-df-quickchart {\n",
              "      --bg-color: #E8F0FE;\n",
              "      --fill-color: #1967D2;\n",
              "      --hover-bg-color: #E2EBFA;\n",
              "      --hover-fill-color: #174EA6;\n",
              "      --disabled-fill-color: #AAA;\n",
              "      --disabled-bg-color: #DDD;\n",
              "  }\n",
              "\n",
              "  [theme=dark] .colab-df-quickchart {\n",
              "      --bg-color: #3B4455;\n",
              "      --fill-color: #D2E3FC;\n",
              "      --hover-bg-color: #434B5C;\n",
              "      --hover-fill-color: #FFFFFF;\n",
              "      --disabled-bg-color: #3B4455;\n",
              "      --disabled-fill-color: #666;\n",
              "  }\n",
              "\n",
              "  .colab-df-quickchart {\n",
              "    background-color: var(--bg-color);\n",
              "    border: none;\n",
              "    border-radius: 50%;\n",
              "    cursor: pointer;\n",
              "    display: none;\n",
              "    fill: var(--fill-color);\n",
              "    height: 32px;\n",
              "    padding: 0;\n",
              "    width: 32px;\n",
              "  }\n",
              "\n",
              "  .colab-df-quickchart:hover {\n",
              "    background-color: var(--hover-bg-color);\n",
              "    box-shadow: 0 1px 2px rgba(60, 64, 67, 0.3), 0 1px 3px 1px rgba(60, 64, 67, 0.15);\n",
              "    fill: var(--button-hover-fill-color);\n",
              "  }\n",
              "\n",
              "  .colab-df-quickchart-complete:disabled,\n",
              "  .colab-df-quickchart-complete:disabled:hover {\n",
              "    background-color: var(--disabled-bg-color);\n",
              "    fill: var(--disabled-fill-color);\n",
              "    box-shadow: none;\n",
              "  }\n",
              "\n",
              "  .colab-df-spinner {\n",
              "    border: 2px solid var(--fill-color);\n",
              "    border-color: transparent;\n",
              "    border-bottom-color: var(--fill-color);\n",
              "    animation:\n",
              "      spin 1s steps(1) infinite;\n",
              "  }\n",
              "\n",
              "  @keyframes spin {\n",
              "    0% {\n",
              "      border-color: transparent;\n",
              "      border-bottom-color: var(--fill-color);\n",
              "      border-left-color: var(--fill-color);\n",
              "    }\n",
              "    20% {\n",
              "      border-color: transparent;\n",
              "      border-left-color: var(--fill-color);\n",
              "      border-top-color: var(--fill-color);\n",
              "    }\n",
              "    30% {\n",
              "      border-color: transparent;\n",
              "      border-left-color: var(--fill-color);\n",
              "      border-top-color: var(--fill-color);\n",
              "      border-right-color: var(--fill-color);\n",
              "    }\n",
              "    40% {\n",
              "      border-color: transparent;\n",
              "      border-right-color: var(--fill-color);\n",
              "      border-top-color: var(--fill-color);\n",
              "    }\n",
              "    60% {\n",
              "      border-color: transparent;\n",
              "      border-right-color: var(--fill-color);\n",
              "    }\n",
              "    80% {\n",
              "      border-color: transparent;\n",
              "      border-right-color: var(--fill-color);\n",
              "      border-bottom-color: var(--fill-color);\n",
              "    }\n",
              "    90% {\n",
              "      border-color: transparent;\n",
              "      border-bottom-color: var(--fill-color);\n",
              "    }\n",
              "  }\n",
              "</style>\n",
              "\n",
              "  <script>\n",
              "    async function quickchart(key) {\n",
              "      const quickchartButtonEl =\n",
              "        document.querySelector('#' + key + ' button');\n",
              "      quickchartButtonEl.disabled = true;  // To prevent multiple clicks.\n",
              "      quickchartButtonEl.classList.add('colab-df-spinner');\n",
              "      try {\n",
              "        const charts = await google.colab.kernel.invokeFunction(\n",
              "            'suggestCharts', [key], {});\n",
              "      } catch (error) {\n",
              "        console.error('Error during call to suggestCharts:', error);\n",
              "      }\n",
              "      quickchartButtonEl.classList.remove('colab-df-spinner');\n",
              "      quickchartButtonEl.classList.add('colab-df-quickchart-complete');\n",
              "    }\n",
              "    (() => {\n",
              "      let quickchartButtonEl =\n",
              "        document.querySelector('#df-f0a74e26-e6b7-4bda-8792-4b9edc9689e8 button');\n",
              "      quickchartButtonEl.style.display =\n",
              "        google.colab.kernel.accessAllowed ? 'block' : 'none';\n",
              "    })();\n",
              "  </script>\n",
              "</div>\n",
              "\n",
              "    </div>\n",
              "  </div>\n"
            ],
            "application/vnd.google.colaboratory.intrinsic+json": {
              "type": "dataframe",
              "variable_name": "heart_disease",
              "summary": "{\n  \"name\": \"heart_disease\",\n  \"rows\": 1025,\n  \"fields\": [\n    {\n      \"column\": \"age\",\n      \"properties\": {\n        \"dtype\": \"number\",\n        \"std\": 9,\n        \"min\": 29,\n        \"max\": 77,\n        \"num_unique_values\": 41,\n        \"samples\": [\n          65,\n          50,\n          54\n        ],\n        \"semantic_type\": \"\",\n        \"description\": \"\"\n      }\n    },\n    {\n      \"column\": \"sex\",\n      \"properties\": {\n        \"dtype\": \"number\",\n        \"std\": 0,\n        \"min\": 0,\n        \"max\": 1,\n        \"num_unique_values\": 2,\n        \"samples\": [\n          0,\n          1\n        ],\n        \"semantic_type\": \"\",\n        \"description\": \"\"\n      }\n    },\n    {\n      \"column\": \"cp\",\n      \"properties\": {\n        \"dtype\": \"number\",\n        \"std\": 1,\n        \"min\": 0,\n        \"max\": 3,\n        \"num_unique_values\": 4,\n        \"samples\": [\n          1,\n          3\n        ],\n        \"semantic_type\": \"\",\n        \"description\": \"\"\n      }\n    },\n    {\n      \"column\": \"trestbps\",\n      \"properties\": {\n        \"dtype\": \"number\",\n        \"std\": 17,\n        \"min\": 94,\n        \"max\": 200,\n        \"num_unique_values\": 49,\n        \"samples\": [\n          128,\n          172\n        ],\n        \"semantic_type\": \"\",\n        \"description\": \"\"\n      }\n    },\n    {\n      \"column\": \"chol\",\n      \"properties\": {\n        \"dtype\": \"number\",\n        \"std\": 51,\n        \"min\": 126,\n        \"max\": 564,\n        \"num_unique_values\": 152,\n        \"samples\": [\n          267,\n          262\n        ],\n        \"semantic_type\": \"\",\n        \"description\": \"\"\n      }\n    },\n    {\n      \"column\": \"fbs\",\n      \"properties\": {\n        \"dtype\": \"number\",\n        \"std\": 0,\n        \"min\": 0,\n        \"max\": 1,\n        \"num_unique_values\": 2,\n        \"samples\": [\n          1,\n          0\n        ],\n        \"semantic_type\": \"\",\n        \"description\": \"\"\n      }\n    },\n    {\n      \"column\": \"restecg\",\n      \"properties\": {\n        \"dtype\": \"number\",\n        \"std\": 0,\n        \"min\": 0,\n        \"max\": 2,\n        \"num_unique_values\": 3,\n        \"samples\": [\n          1,\n          0\n        ],\n        \"semantic_type\": \"\",\n        \"description\": \"\"\n      }\n    },\n    {\n      \"column\": \"thalach\",\n      \"properties\": {\n        \"dtype\": \"number\",\n        \"std\": 23,\n        \"min\": 71,\n        \"max\": 202,\n        \"num_unique_values\": 91,\n        \"samples\": [\n          180,\n          152\n        ],\n        \"semantic_type\": \"\",\n        \"description\": \"\"\n      }\n    },\n    {\n      \"column\": \"exang\",\n      \"properties\": {\n        \"dtype\": \"number\",\n        \"std\": 0,\n        \"min\": 0,\n        \"max\": 1,\n        \"num_unique_values\": 2,\n        \"samples\": [\n          1,\n          0\n        ],\n        \"semantic_type\": \"\",\n        \"description\": \"\"\n      }\n    },\n    {\n      \"column\": \"oldpeak\",\n      \"properties\": {\n        \"dtype\": \"number\",\n        \"std\": 1.175053255150176,\n        \"min\": 0.0,\n        \"max\": 6.2,\n        \"num_unique_values\": 40,\n        \"samples\": [\n          2.8,\n          0.4\n        ],\n        \"semantic_type\": \"\",\n        \"description\": \"\"\n      }\n    },\n    {\n      \"column\": \"slope\",\n      \"properties\": {\n        \"dtype\": \"number\",\n        \"std\": 0,\n        \"min\": 0,\n        \"max\": 2,\n        \"num_unique_values\": 3,\n        \"samples\": [\n          2,\n          0\n        ],\n        \"semantic_type\": \"\",\n        \"description\": \"\"\n      }\n    },\n    {\n      \"column\": \"ca\",\n      \"properties\": {\n        \"dtype\": \"number\",\n        \"std\": 1,\n        \"min\": 0,\n        \"max\": 4,\n        \"num_unique_values\": 5,\n        \"samples\": [\n          0,\n          4\n        ],\n        \"semantic_type\": \"\",\n        \"description\": \"\"\n      }\n    },\n    {\n      \"column\": \"thal\",\n      \"properties\": {\n        \"dtype\": \"number\",\n        \"std\": 0,\n        \"min\": 0,\n        \"max\": 3,\n        \"num_unique_values\": 4,\n        \"samples\": [\n          2,\n          0\n        ],\n        \"semantic_type\": \"\",\n        \"description\": \"\"\n      }\n    },\n    {\n      \"column\": \"target\",\n      \"properties\": {\n        \"dtype\": \"number\",\n        \"std\": 0,\n        \"min\": 0,\n        \"max\": 1,\n        \"num_unique_values\": 2,\n        \"samples\": [\n          1,\n          0\n        ],\n        \"semantic_type\": \"\",\n        \"description\": \"\"\n      }\n    }\n  ]\n}"
            }
          },
          "metadata": {},
          "execution_count": 11
        }
      ]
    },
    {
      "cell_type": "markdown",
      "source": [
        "Target column indicates whether the patient has heart disease or not"
      ],
      "metadata": {
        "id": "RAe_TjPyZ3Zk"
      }
    },
    {
      "cell_type": "code",
      "source": [
        "# Create X (all the feature columns)\n",
        "x= heart_disease.drop('target',axis =1)\n",
        "\n",
        "# create y ( the target column)\n",
        "y= heart_disease['target']\n",
        "\n",
        "x.head()"
      ],
      "metadata": {
        "colab": {
          "base_uri": "https://localhost:8080/",
          "height": 206
        },
        "id": "l4WC9ud7uBQ0",
        "outputId": "d6e0c984-f686-443a-b365-8d7f825eabfc"
      },
      "execution_count": 12,
      "outputs": [
        {
          "output_type": "execute_result",
          "data": {
            "text/plain": [
              "   age  sex  cp  trestbps  chol  fbs  restecg  thalach  exang  oldpeak  slope  \\\n",
              "0   52    1   0       125   212    0        1      168      0      1.0      2   \n",
              "1   53    1   0       140   203    1        0      155      1      3.1      0   \n",
              "2   70    1   0       145   174    0        1      125      1      2.6      0   \n",
              "3   61    1   0       148   203    0        1      161      0      0.0      2   \n",
              "4   62    0   0       138   294    1        1      106      0      1.9      1   \n",
              "\n",
              "   ca  thal  \n",
              "0   2     3  \n",
              "1   0     3  \n",
              "2   0     3  \n",
              "3   1     3  \n",
              "4   3     2  "
            ],
            "text/html": [
              "\n",
              "  <div id=\"df-f9fba12d-91e9-4ed7-986b-a565774a2a47\" class=\"colab-df-container\">\n",
              "    <div>\n",
              "<style scoped>\n",
              "    .dataframe tbody tr th:only-of-type {\n",
              "        vertical-align: middle;\n",
              "    }\n",
              "\n",
              "    .dataframe tbody tr th {\n",
              "        vertical-align: top;\n",
              "    }\n",
              "\n",
              "    .dataframe thead th {\n",
              "        text-align: right;\n",
              "    }\n",
              "</style>\n",
              "<table border=\"1\" class=\"dataframe\">\n",
              "  <thead>\n",
              "    <tr style=\"text-align: right;\">\n",
              "      <th></th>\n",
              "      <th>age</th>\n",
              "      <th>sex</th>\n",
              "      <th>cp</th>\n",
              "      <th>trestbps</th>\n",
              "      <th>chol</th>\n",
              "      <th>fbs</th>\n",
              "      <th>restecg</th>\n",
              "      <th>thalach</th>\n",
              "      <th>exang</th>\n",
              "      <th>oldpeak</th>\n",
              "      <th>slope</th>\n",
              "      <th>ca</th>\n",
              "      <th>thal</th>\n",
              "    </tr>\n",
              "  </thead>\n",
              "  <tbody>\n",
              "    <tr>\n",
              "      <th>0</th>\n",
              "      <td>52</td>\n",
              "      <td>1</td>\n",
              "      <td>0</td>\n",
              "      <td>125</td>\n",
              "      <td>212</td>\n",
              "      <td>0</td>\n",
              "      <td>1</td>\n",
              "      <td>168</td>\n",
              "      <td>0</td>\n",
              "      <td>1.0</td>\n",
              "      <td>2</td>\n",
              "      <td>2</td>\n",
              "      <td>3</td>\n",
              "    </tr>\n",
              "    <tr>\n",
              "      <th>1</th>\n",
              "      <td>53</td>\n",
              "      <td>1</td>\n",
              "      <td>0</td>\n",
              "      <td>140</td>\n",
              "      <td>203</td>\n",
              "      <td>1</td>\n",
              "      <td>0</td>\n",
              "      <td>155</td>\n",
              "      <td>1</td>\n",
              "      <td>3.1</td>\n",
              "      <td>0</td>\n",
              "      <td>0</td>\n",
              "      <td>3</td>\n",
              "    </tr>\n",
              "    <tr>\n",
              "      <th>2</th>\n",
              "      <td>70</td>\n",
              "      <td>1</td>\n",
              "      <td>0</td>\n",
              "      <td>145</td>\n",
              "      <td>174</td>\n",
              "      <td>0</td>\n",
              "      <td>1</td>\n",
              "      <td>125</td>\n",
              "      <td>1</td>\n",
              "      <td>2.6</td>\n",
              "      <td>0</td>\n",
              "      <td>0</td>\n",
              "      <td>3</td>\n",
              "    </tr>\n",
              "    <tr>\n",
              "      <th>3</th>\n",
              "      <td>61</td>\n",
              "      <td>1</td>\n",
              "      <td>0</td>\n",
              "      <td>148</td>\n",
              "      <td>203</td>\n",
              "      <td>0</td>\n",
              "      <td>1</td>\n",
              "      <td>161</td>\n",
              "      <td>0</td>\n",
              "      <td>0.0</td>\n",
              "      <td>2</td>\n",
              "      <td>1</td>\n",
              "      <td>3</td>\n",
              "    </tr>\n",
              "    <tr>\n",
              "      <th>4</th>\n",
              "      <td>62</td>\n",
              "      <td>0</td>\n",
              "      <td>0</td>\n",
              "      <td>138</td>\n",
              "      <td>294</td>\n",
              "      <td>1</td>\n",
              "      <td>1</td>\n",
              "      <td>106</td>\n",
              "      <td>0</td>\n",
              "      <td>1.9</td>\n",
              "      <td>1</td>\n",
              "      <td>3</td>\n",
              "      <td>2</td>\n",
              "    </tr>\n",
              "  </tbody>\n",
              "</table>\n",
              "</div>\n",
              "    <div class=\"colab-df-buttons\">\n",
              "\n",
              "  <div class=\"colab-df-container\">\n",
              "    <button class=\"colab-df-convert\" onclick=\"convertToInteractive('df-f9fba12d-91e9-4ed7-986b-a565774a2a47')\"\n",
              "            title=\"Convert this dataframe to an interactive table.\"\n",
              "            style=\"display:none;\">\n",
              "\n",
              "  <svg xmlns=\"http://www.w3.org/2000/svg\" height=\"24px\" viewBox=\"0 -960 960 960\">\n",
              "    <path d=\"M120-120v-720h720v720H120Zm60-500h600v-160H180v160Zm220 220h160v-160H400v160Zm0 220h160v-160H400v160ZM180-400h160v-160H180v160Zm440 0h160v-160H620v160ZM180-180h160v-160H180v160Zm440 0h160v-160H620v160Z\"/>\n",
              "  </svg>\n",
              "    </button>\n",
              "\n",
              "  <style>\n",
              "    .colab-df-container {\n",
              "      display:flex;\n",
              "      gap: 12px;\n",
              "    }\n",
              "\n",
              "    .colab-df-convert {\n",
              "      background-color: #E8F0FE;\n",
              "      border: none;\n",
              "      border-radius: 50%;\n",
              "      cursor: pointer;\n",
              "      display: none;\n",
              "      fill: #1967D2;\n",
              "      height: 32px;\n",
              "      padding: 0 0 0 0;\n",
              "      width: 32px;\n",
              "    }\n",
              "\n",
              "    .colab-df-convert:hover {\n",
              "      background-color: #E2EBFA;\n",
              "      box-shadow: 0px 1px 2px rgba(60, 64, 67, 0.3), 0px 1px 3px 1px rgba(60, 64, 67, 0.15);\n",
              "      fill: #174EA6;\n",
              "    }\n",
              "\n",
              "    .colab-df-buttons div {\n",
              "      margin-bottom: 4px;\n",
              "    }\n",
              "\n",
              "    [theme=dark] .colab-df-convert {\n",
              "      background-color: #3B4455;\n",
              "      fill: #D2E3FC;\n",
              "    }\n",
              "\n",
              "    [theme=dark] .colab-df-convert:hover {\n",
              "      background-color: #434B5C;\n",
              "      box-shadow: 0px 1px 3px 1px rgba(0, 0, 0, 0.15);\n",
              "      filter: drop-shadow(0px 1px 2px rgba(0, 0, 0, 0.3));\n",
              "      fill: #FFFFFF;\n",
              "    }\n",
              "  </style>\n",
              "\n",
              "    <script>\n",
              "      const buttonEl =\n",
              "        document.querySelector('#df-f9fba12d-91e9-4ed7-986b-a565774a2a47 button.colab-df-convert');\n",
              "      buttonEl.style.display =\n",
              "        google.colab.kernel.accessAllowed ? 'block' : 'none';\n",
              "\n",
              "      async function convertToInteractive(key) {\n",
              "        const element = document.querySelector('#df-f9fba12d-91e9-4ed7-986b-a565774a2a47');\n",
              "        const dataTable =\n",
              "          await google.colab.kernel.invokeFunction('convertToInteractive',\n",
              "                                                    [key], {});\n",
              "        if (!dataTable) return;\n",
              "\n",
              "        const docLinkHtml = 'Like what you see? Visit the ' +\n",
              "          '<a target=\"_blank\" href=https://colab.research.google.com/notebooks/data_table.ipynb>data table notebook</a>'\n",
              "          + ' to learn more about interactive tables.';\n",
              "        element.innerHTML = '';\n",
              "        dataTable['output_type'] = 'display_data';\n",
              "        await google.colab.output.renderOutput(dataTable, element);\n",
              "        const docLink = document.createElement('div');\n",
              "        docLink.innerHTML = docLinkHtml;\n",
              "        element.appendChild(docLink);\n",
              "      }\n",
              "    </script>\n",
              "  </div>\n",
              "\n",
              "\n",
              "<div id=\"df-85a2fa44-2d4d-45ea-adbd-f73658790c5a\">\n",
              "  <button class=\"colab-df-quickchart\" onclick=\"quickchart('df-85a2fa44-2d4d-45ea-adbd-f73658790c5a')\"\n",
              "            title=\"Suggest charts\"\n",
              "            style=\"display:none;\">\n",
              "\n",
              "<svg xmlns=\"http://www.w3.org/2000/svg\" height=\"24px\"viewBox=\"0 0 24 24\"\n",
              "     width=\"24px\">\n",
              "    <g>\n",
              "        <path d=\"M19 3H5c-1.1 0-2 .9-2 2v14c0 1.1.9 2 2 2h14c1.1 0 2-.9 2-2V5c0-1.1-.9-2-2-2zM9 17H7v-7h2v7zm4 0h-2V7h2v10zm4 0h-2v-4h2v4z\"/>\n",
              "    </g>\n",
              "</svg>\n",
              "  </button>\n",
              "\n",
              "<style>\n",
              "  .colab-df-quickchart {\n",
              "      --bg-color: #E8F0FE;\n",
              "      --fill-color: #1967D2;\n",
              "      --hover-bg-color: #E2EBFA;\n",
              "      --hover-fill-color: #174EA6;\n",
              "      --disabled-fill-color: #AAA;\n",
              "      --disabled-bg-color: #DDD;\n",
              "  }\n",
              "\n",
              "  [theme=dark] .colab-df-quickchart {\n",
              "      --bg-color: #3B4455;\n",
              "      --fill-color: #D2E3FC;\n",
              "      --hover-bg-color: #434B5C;\n",
              "      --hover-fill-color: #FFFFFF;\n",
              "      --disabled-bg-color: #3B4455;\n",
              "      --disabled-fill-color: #666;\n",
              "  }\n",
              "\n",
              "  .colab-df-quickchart {\n",
              "    background-color: var(--bg-color);\n",
              "    border: none;\n",
              "    border-radius: 50%;\n",
              "    cursor: pointer;\n",
              "    display: none;\n",
              "    fill: var(--fill-color);\n",
              "    height: 32px;\n",
              "    padding: 0;\n",
              "    width: 32px;\n",
              "  }\n",
              "\n",
              "  .colab-df-quickchart:hover {\n",
              "    background-color: var(--hover-bg-color);\n",
              "    box-shadow: 0 1px 2px rgba(60, 64, 67, 0.3), 0 1px 3px 1px rgba(60, 64, 67, 0.15);\n",
              "    fill: var(--button-hover-fill-color);\n",
              "  }\n",
              "\n",
              "  .colab-df-quickchart-complete:disabled,\n",
              "  .colab-df-quickchart-complete:disabled:hover {\n",
              "    background-color: var(--disabled-bg-color);\n",
              "    fill: var(--disabled-fill-color);\n",
              "    box-shadow: none;\n",
              "  }\n",
              "\n",
              "  .colab-df-spinner {\n",
              "    border: 2px solid var(--fill-color);\n",
              "    border-color: transparent;\n",
              "    border-bottom-color: var(--fill-color);\n",
              "    animation:\n",
              "      spin 1s steps(1) infinite;\n",
              "  }\n",
              "\n",
              "  @keyframes spin {\n",
              "    0% {\n",
              "      border-color: transparent;\n",
              "      border-bottom-color: var(--fill-color);\n",
              "      border-left-color: var(--fill-color);\n",
              "    }\n",
              "    20% {\n",
              "      border-color: transparent;\n",
              "      border-left-color: var(--fill-color);\n",
              "      border-top-color: var(--fill-color);\n",
              "    }\n",
              "    30% {\n",
              "      border-color: transparent;\n",
              "      border-left-color: var(--fill-color);\n",
              "      border-top-color: var(--fill-color);\n",
              "      border-right-color: var(--fill-color);\n",
              "    }\n",
              "    40% {\n",
              "      border-color: transparent;\n",
              "      border-right-color: var(--fill-color);\n",
              "      border-top-color: var(--fill-color);\n",
              "    }\n",
              "    60% {\n",
              "      border-color: transparent;\n",
              "      border-right-color: var(--fill-color);\n",
              "    }\n",
              "    80% {\n",
              "      border-color: transparent;\n",
              "      border-right-color: var(--fill-color);\n",
              "      border-bottom-color: var(--fill-color);\n",
              "    }\n",
              "    90% {\n",
              "      border-color: transparent;\n",
              "      border-bottom-color: var(--fill-color);\n",
              "    }\n",
              "  }\n",
              "</style>\n",
              "\n",
              "  <script>\n",
              "    async function quickchart(key) {\n",
              "      const quickchartButtonEl =\n",
              "        document.querySelector('#' + key + ' button');\n",
              "      quickchartButtonEl.disabled = true;  // To prevent multiple clicks.\n",
              "      quickchartButtonEl.classList.add('colab-df-spinner');\n",
              "      try {\n",
              "        const charts = await google.colab.kernel.invokeFunction(\n",
              "            'suggestCharts', [key], {});\n",
              "      } catch (error) {\n",
              "        console.error('Error during call to suggestCharts:', error);\n",
              "      }\n",
              "      quickchartButtonEl.classList.remove('colab-df-spinner');\n",
              "      quickchartButtonEl.classList.add('colab-df-quickchart-complete');\n",
              "    }\n",
              "    (() => {\n",
              "      let quickchartButtonEl =\n",
              "        document.querySelector('#df-85a2fa44-2d4d-45ea-adbd-f73658790c5a button');\n",
              "      quickchartButtonEl.style.display =\n",
              "        google.colab.kernel.accessAllowed ? 'block' : 'none';\n",
              "    })();\n",
              "  </script>\n",
              "</div>\n",
              "\n",
              "    </div>\n",
              "  </div>\n"
            ],
            "application/vnd.google.colaboratory.intrinsic+json": {
              "type": "dataframe",
              "variable_name": "x",
              "summary": "{\n  \"name\": \"x\",\n  \"rows\": 1025,\n  \"fields\": [\n    {\n      \"column\": \"age\",\n      \"properties\": {\n        \"dtype\": \"number\",\n        \"std\": 9,\n        \"min\": 29,\n        \"max\": 77,\n        \"num_unique_values\": 41,\n        \"samples\": [\n          65,\n          50,\n          54\n        ],\n        \"semantic_type\": \"\",\n        \"description\": \"\"\n      }\n    },\n    {\n      \"column\": \"sex\",\n      \"properties\": {\n        \"dtype\": \"number\",\n        \"std\": 0,\n        \"min\": 0,\n        \"max\": 1,\n        \"num_unique_values\": 2,\n        \"samples\": [\n          0,\n          1\n        ],\n        \"semantic_type\": \"\",\n        \"description\": \"\"\n      }\n    },\n    {\n      \"column\": \"cp\",\n      \"properties\": {\n        \"dtype\": \"number\",\n        \"std\": 1,\n        \"min\": 0,\n        \"max\": 3,\n        \"num_unique_values\": 4,\n        \"samples\": [\n          1,\n          3\n        ],\n        \"semantic_type\": \"\",\n        \"description\": \"\"\n      }\n    },\n    {\n      \"column\": \"trestbps\",\n      \"properties\": {\n        \"dtype\": \"number\",\n        \"std\": 17,\n        \"min\": 94,\n        \"max\": 200,\n        \"num_unique_values\": 49,\n        \"samples\": [\n          128,\n          172\n        ],\n        \"semantic_type\": \"\",\n        \"description\": \"\"\n      }\n    },\n    {\n      \"column\": \"chol\",\n      \"properties\": {\n        \"dtype\": \"number\",\n        \"std\": 51,\n        \"min\": 126,\n        \"max\": 564,\n        \"num_unique_values\": 152,\n        \"samples\": [\n          267,\n          262\n        ],\n        \"semantic_type\": \"\",\n        \"description\": \"\"\n      }\n    },\n    {\n      \"column\": \"fbs\",\n      \"properties\": {\n        \"dtype\": \"number\",\n        \"std\": 0,\n        \"min\": 0,\n        \"max\": 1,\n        \"num_unique_values\": 2,\n        \"samples\": [\n          1,\n          0\n        ],\n        \"semantic_type\": \"\",\n        \"description\": \"\"\n      }\n    },\n    {\n      \"column\": \"restecg\",\n      \"properties\": {\n        \"dtype\": \"number\",\n        \"std\": 0,\n        \"min\": 0,\n        \"max\": 2,\n        \"num_unique_values\": 3,\n        \"samples\": [\n          1,\n          0\n        ],\n        \"semantic_type\": \"\",\n        \"description\": \"\"\n      }\n    },\n    {\n      \"column\": \"thalach\",\n      \"properties\": {\n        \"dtype\": \"number\",\n        \"std\": 23,\n        \"min\": 71,\n        \"max\": 202,\n        \"num_unique_values\": 91,\n        \"samples\": [\n          180,\n          152\n        ],\n        \"semantic_type\": \"\",\n        \"description\": \"\"\n      }\n    },\n    {\n      \"column\": \"exang\",\n      \"properties\": {\n        \"dtype\": \"number\",\n        \"std\": 0,\n        \"min\": 0,\n        \"max\": 1,\n        \"num_unique_values\": 2,\n        \"samples\": [\n          1,\n          0\n        ],\n        \"semantic_type\": \"\",\n        \"description\": \"\"\n      }\n    },\n    {\n      \"column\": \"oldpeak\",\n      \"properties\": {\n        \"dtype\": \"number\",\n        \"std\": 1.175053255150176,\n        \"min\": 0.0,\n        \"max\": 6.2,\n        \"num_unique_values\": 40,\n        \"samples\": [\n          2.8,\n          0.4\n        ],\n        \"semantic_type\": \"\",\n        \"description\": \"\"\n      }\n    },\n    {\n      \"column\": \"slope\",\n      \"properties\": {\n        \"dtype\": \"number\",\n        \"std\": 0,\n        \"min\": 0,\n        \"max\": 2,\n        \"num_unique_values\": 3,\n        \"samples\": [\n          2,\n          0\n        ],\n        \"semantic_type\": \"\",\n        \"description\": \"\"\n      }\n    },\n    {\n      \"column\": \"ca\",\n      \"properties\": {\n        \"dtype\": \"number\",\n        \"std\": 1,\n        \"min\": 0,\n        \"max\": 4,\n        \"num_unique_values\": 5,\n        \"samples\": [\n          0,\n          4\n        ],\n        \"semantic_type\": \"\",\n        \"description\": \"\"\n      }\n    },\n    {\n      \"column\": \"thal\",\n      \"properties\": {\n        \"dtype\": \"number\",\n        \"std\": 0,\n        \"min\": 0,\n        \"max\": 3,\n        \"num_unique_values\": 4,\n        \"samples\": [\n          2,\n          0\n        ],\n        \"semantic_type\": \"\",\n        \"description\": \"\"\n      }\n    }\n  ]\n}"
            }
          },
          "metadata": {},
          "execution_count": 12
        }
      ]
    },
    {
      "cell_type": "code",
      "source": [
        "# check the head and the value counts of the labels\n",
        "y.head() , y.value_counts()"
      ],
      "metadata": {
        "colab": {
          "base_uri": "https://localhost:8080/"
        },
        "id": "0ZeF0qQdaQt7",
        "outputId": "39065dac-979a-4011-a830-352de66ecd18"
      },
      "execution_count": 13,
      "outputs": [
        {
          "output_type": "execute_result",
          "data": {
            "text/plain": [
              "(0    0\n",
              " 1    0\n",
              " 2    0\n",
              " 3    0\n",
              " 4    0\n",
              " Name: target, dtype: int64,\n",
              " target\n",
              " 1    526\n",
              " 0    499\n",
              " Name: count, dtype: int64)"
            ]
          },
          "metadata": {},
          "execution_count": 13
        }
      ]
    },
    {
      "cell_type": "markdown",
      "source": [
        "Now , to spilt the dataset to train and test\n",
        "\n",
        "as in, model will train on training set to learn patterns and those patterns can be evaluated on the test set\n",
        "\n",
        "Note : model should never see testing data during training\n",
        "\n",
        "But the is also validation set but for now we'll use only train and test"
      ],
      "metadata": {
        "id": "UqMU-xw0a2Ct"
      }
    },
    {
      "cell_type": "code",
      "source": [
        "from sklearn.model_selection import train_test_split\n",
        "\n",
        "x_train, x_test , y_train, y_test = train_test_split(x,\n",
        "                                                     y,\n",
        "                                                     test_size = 0.25)\n",
        " # by default train_test_split uses 25% of the data for the test set\n",
        "\n",
        "x_train.shape, x_test.shape, y_train.shape, y_test.shape\n"
      ],
      "metadata": {
        "colab": {
          "base_uri": "https://localhost:8080/"
        },
        "id": "nKBXhzlzag9y",
        "outputId": "38e36ba0-4be6-4df8-d8a5-a7bdac6e5ea4"
      },
      "execution_count": 14,
      "outputs": [
        {
          "output_type": "execute_result",
          "data": {
            "text/plain": [
              "((768, 13), (257, 13), (768,), (257,))"
            ]
          },
          "metadata": {},
          "execution_count": 14
        }
      ]
    },
    {
      "cell_type": "markdown",
      "source": [
        "## since we are working on a classification problem we'll start with a RandomForestClassifier"
      ],
      "metadata": {
        "id": "ZKeAe8klb_Ef"
      }
    },
    {
      "cell_type": "code",
      "source": [
        "from sklearn.ensemble import RandomForestClassifier\n",
        "\n",
        "clf =RandomForestClassifier()"
      ],
      "metadata": {
        "id": "tWNYAlVCbvhJ"
      },
      "execution_count": 15,
      "outputs": []
    },
    {
      "cell_type": "markdown",
      "source": [
        "We can see current hyperparameters with\n",
        "\n",
        "```\n",
        "get_params()\n",
        "```\n",
        "\n"
      ],
      "metadata": {
        "id": "tQcBWH_Acdw9"
      }
    },
    {
      "cell_type": "code",
      "source": [
        "clf.get_params()"
      ],
      "metadata": {
        "colab": {
          "base_uri": "https://localhost:8080/"
        },
        "id": "letbhHEycXcs",
        "outputId": "644907c0-6583-42c5-ec10-a7ac2ecf0f71"
      },
      "execution_count": 16,
      "outputs": [
        {
          "output_type": "execute_result",
          "data": {
            "text/plain": [
              "{'bootstrap': True,\n",
              " 'ccp_alpha': 0.0,\n",
              " 'class_weight': None,\n",
              " 'criterion': 'gini',\n",
              " 'max_depth': None,\n",
              " 'max_features': 'sqrt',\n",
              " 'max_leaf_nodes': None,\n",
              " 'max_samples': None,\n",
              " 'min_impurity_decrease': 0.0,\n",
              " 'min_samples_leaf': 1,\n",
              " 'min_samples_split': 2,\n",
              " 'min_weight_fraction_leaf': 0.0,\n",
              " 'n_estimators': 100,\n",
              " 'n_jobs': None,\n",
              " 'oob_score': False,\n",
              " 'random_state': None,\n",
              " 'verbose': 0,\n",
              " 'warm_start': False}"
            ]
          },
          "metadata": {},
          "execution_count": 16
        }
      ]
    },
    {
      "cell_type": "markdown",
      "source": [
        "we'll start fitting a model on the training split(x_train, y_train)"
      ],
      "metadata": {
        "id": "jfzOyY3Fc3E-"
      }
    },
    {
      "cell_type": "code",
      "source": [
        "clf.fit(X = x_train, y= y_train)"
      ],
      "metadata": {
        "colab": {
          "base_uri": "https://localhost:8080/",
          "height": 74
        },
        "id": "1hEq3-GJcbzS",
        "outputId": "7f562276-5b86-46b9-b049-1d0059f7234c"
      },
      "execution_count": 17,
      "outputs": [
        {
          "output_type": "execute_result",
          "data": {
            "text/plain": [
              "RandomForestClassifier()"
            ],
            "text/html": [
              "<style>#sk-container-id-1 {color: black;background-color: white;}#sk-container-id-1 pre{padding: 0;}#sk-container-id-1 div.sk-toggleable {background-color: white;}#sk-container-id-1 label.sk-toggleable__label {cursor: pointer;display: block;width: 100%;margin-bottom: 0;padding: 0.3em;box-sizing: border-box;text-align: center;}#sk-container-id-1 label.sk-toggleable__label-arrow:before {content: \"▸\";float: left;margin-right: 0.25em;color: #696969;}#sk-container-id-1 label.sk-toggleable__label-arrow:hover:before {color: black;}#sk-container-id-1 div.sk-estimator:hover label.sk-toggleable__label-arrow:before {color: black;}#sk-container-id-1 div.sk-toggleable__content {max-height: 0;max-width: 0;overflow: hidden;text-align: left;background-color: #f0f8ff;}#sk-container-id-1 div.sk-toggleable__content pre {margin: 0.2em;color: black;border-radius: 0.25em;background-color: #f0f8ff;}#sk-container-id-1 input.sk-toggleable__control:checked~div.sk-toggleable__content {max-height: 200px;max-width: 100%;overflow: auto;}#sk-container-id-1 input.sk-toggleable__control:checked~label.sk-toggleable__label-arrow:before {content: \"▾\";}#sk-container-id-1 div.sk-estimator input.sk-toggleable__control:checked~label.sk-toggleable__label {background-color: #d4ebff;}#sk-container-id-1 div.sk-label input.sk-toggleable__control:checked~label.sk-toggleable__label {background-color: #d4ebff;}#sk-container-id-1 input.sk-hidden--visually {border: 0;clip: rect(1px 1px 1px 1px);clip: rect(1px, 1px, 1px, 1px);height: 1px;margin: -1px;overflow: hidden;padding: 0;position: absolute;width: 1px;}#sk-container-id-1 div.sk-estimator {font-family: monospace;background-color: #f0f8ff;border: 1px dotted black;border-radius: 0.25em;box-sizing: border-box;margin-bottom: 0.5em;}#sk-container-id-1 div.sk-estimator:hover {background-color: #d4ebff;}#sk-container-id-1 div.sk-parallel-item::after {content: \"\";width: 100%;border-bottom: 1px solid gray;flex-grow: 1;}#sk-container-id-1 div.sk-label:hover label.sk-toggleable__label {background-color: #d4ebff;}#sk-container-id-1 div.sk-serial::before {content: \"\";position: absolute;border-left: 1px solid gray;box-sizing: border-box;top: 0;bottom: 0;left: 50%;z-index: 0;}#sk-container-id-1 div.sk-serial {display: flex;flex-direction: column;align-items: center;background-color: white;padding-right: 0.2em;padding-left: 0.2em;position: relative;}#sk-container-id-1 div.sk-item {position: relative;z-index: 1;}#sk-container-id-1 div.sk-parallel {display: flex;align-items: stretch;justify-content: center;background-color: white;position: relative;}#sk-container-id-1 div.sk-item::before, #sk-container-id-1 div.sk-parallel-item::before {content: \"\";position: absolute;border-left: 1px solid gray;box-sizing: border-box;top: 0;bottom: 0;left: 50%;z-index: -1;}#sk-container-id-1 div.sk-parallel-item {display: flex;flex-direction: column;z-index: 1;position: relative;background-color: white;}#sk-container-id-1 div.sk-parallel-item:first-child::after {align-self: flex-end;width: 50%;}#sk-container-id-1 div.sk-parallel-item:last-child::after {align-self: flex-start;width: 50%;}#sk-container-id-1 div.sk-parallel-item:only-child::after {width: 0;}#sk-container-id-1 div.sk-dashed-wrapped {border: 1px dashed gray;margin: 0 0.4em 0.5em 0.4em;box-sizing: border-box;padding-bottom: 0.4em;background-color: white;}#sk-container-id-1 div.sk-label label {font-family: monospace;font-weight: bold;display: inline-block;line-height: 1.2em;}#sk-container-id-1 div.sk-label-container {text-align: center;}#sk-container-id-1 div.sk-container {/* jupyter's `normalize.less` sets `[hidden] { display: none; }` but bootstrap.min.css set `[hidden] { display: none !important; }` so we also need the `!important` here to be able to override the default hidden behavior on the sphinx rendered scikit-learn.org. See: https://github.com/scikit-learn/scikit-learn/issues/21755 */display: inline-block !important;position: relative;}#sk-container-id-1 div.sk-text-repr-fallback {display: none;}</style><div id=\"sk-container-id-1\" class=\"sk-top-container\"><div class=\"sk-text-repr-fallback\"><pre>RandomForestClassifier()</pre><b>In a Jupyter environment, please rerun this cell to show the HTML representation or trust the notebook. <br />On GitHub, the HTML representation is unable to render, please try loading this page with nbviewer.org.</b></div><div class=\"sk-container\" hidden><div class=\"sk-item\"><div class=\"sk-estimator sk-toggleable\"><input class=\"sk-toggleable__control sk-hidden--visually\" id=\"sk-estimator-id-1\" type=\"checkbox\" checked><label for=\"sk-estimator-id-1\" class=\"sk-toggleable__label sk-toggleable__label-arrow\">RandomForestClassifier</label><div class=\"sk-toggleable__content\"><pre>RandomForestClassifier()</pre></div></div></div></div></div>"
            ]
          },
          "metadata": {},
          "execution_count": 17
        }
      ]
    },
    {
      "cell_type": "markdown",
      "source": [
        "Since the model was trained on data from x_train, predictions should be made on data in the same format and shape as x_train"
      ],
      "metadata": {
        "id": "RYtXLmV7dkrA"
      }
    },
    {
      "cell_type": "code",
      "source": [
        "# In order to predict a label , data has to be in the same shape as x_train\n",
        "x_test.head()"
      ],
      "metadata": {
        "colab": {
          "base_uri": "https://localhost:8080/",
          "height": 206
        },
        "id": "KApquFxFdCAD",
        "outputId": "a6b288fc-7b9c-452a-9219-fd15597d73e2"
      },
      "execution_count": 18,
      "outputs": [
        {
          "output_type": "execute_result",
          "data": {
            "text/plain": [
              "     age  sex  cp  trestbps  chol  fbs  restecg  thalach  exang  oldpeak  \\\n",
              "411   56    1   0       125   249    1        0      144      1      1.2   \n",
              "993   43    1   0       132   247    1        0      143      1      0.1   \n",
              "740   44    1   2       140   235    0        0      180      0      0.0   \n",
              "920   39    1   0       118   219    0        1      140      0      1.2   \n",
              "64    29    1   1       130   204    0        0      202      0      0.0   \n",
              "\n",
              "     slope  ca  thal  \n",
              "411      1   1     2  \n",
              "993      1   4     3  \n",
              "740      2   0     2  \n",
              "920      1   0     3  \n",
              "64       2   0     2  "
            ],
            "text/html": [
              "\n",
              "  <div id=\"df-90150a2e-ce34-4f86-94fa-fb848135bcb5\" class=\"colab-df-container\">\n",
              "    <div>\n",
              "<style scoped>\n",
              "    .dataframe tbody tr th:only-of-type {\n",
              "        vertical-align: middle;\n",
              "    }\n",
              "\n",
              "    .dataframe tbody tr th {\n",
              "        vertical-align: top;\n",
              "    }\n",
              "\n",
              "    .dataframe thead th {\n",
              "        text-align: right;\n",
              "    }\n",
              "</style>\n",
              "<table border=\"1\" class=\"dataframe\">\n",
              "  <thead>\n",
              "    <tr style=\"text-align: right;\">\n",
              "      <th></th>\n",
              "      <th>age</th>\n",
              "      <th>sex</th>\n",
              "      <th>cp</th>\n",
              "      <th>trestbps</th>\n",
              "      <th>chol</th>\n",
              "      <th>fbs</th>\n",
              "      <th>restecg</th>\n",
              "      <th>thalach</th>\n",
              "      <th>exang</th>\n",
              "      <th>oldpeak</th>\n",
              "      <th>slope</th>\n",
              "      <th>ca</th>\n",
              "      <th>thal</th>\n",
              "    </tr>\n",
              "  </thead>\n",
              "  <tbody>\n",
              "    <tr>\n",
              "      <th>411</th>\n",
              "      <td>56</td>\n",
              "      <td>1</td>\n",
              "      <td>0</td>\n",
              "      <td>125</td>\n",
              "      <td>249</td>\n",
              "      <td>1</td>\n",
              "      <td>0</td>\n",
              "      <td>144</td>\n",
              "      <td>1</td>\n",
              "      <td>1.2</td>\n",
              "      <td>1</td>\n",
              "      <td>1</td>\n",
              "      <td>2</td>\n",
              "    </tr>\n",
              "    <tr>\n",
              "      <th>993</th>\n",
              "      <td>43</td>\n",
              "      <td>1</td>\n",
              "      <td>0</td>\n",
              "      <td>132</td>\n",
              "      <td>247</td>\n",
              "      <td>1</td>\n",
              "      <td>0</td>\n",
              "      <td>143</td>\n",
              "      <td>1</td>\n",
              "      <td>0.1</td>\n",
              "      <td>1</td>\n",
              "      <td>4</td>\n",
              "      <td>3</td>\n",
              "    </tr>\n",
              "    <tr>\n",
              "      <th>740</th>\n",
              "      <td>44</td>\n",
              "      <td>1</td>\n",
              "      <td>2</td>\n",
              "      <td>140</td>\n",
              "      <td>235</td>\n",
              "      <td>0</td>\n",
              "      <td>0</td>\n",
              "      <td>180</td>\n",
              "      <td>0</td>\n",
              "      <td>0.0</td>\n",
              "      <td>2</td>\n",
              "      <td>0</td>\n",
              "      <td>2</td>\n",
              "    </tr>\n",
              "    <tr>\n",
              "      <th>920</th>\n",
              "      <td>39</td>\n",
              "      <td>1</td>\n",
              "      <td>0</td>\n",
              "      <td>118</td>\n",
              "      <td>219</td>\n",
              "      <td>0</td>\n",
              "      <td>1</td>\n",
              "      <td>140</td>\n",
              "      <td>0</td>\n",
              "      <td>1.2</td>\n",
              "      <td>1</td>\n",
              "      <td>0</td>\n",
              "      <td>3</td>\n",
              "    </tr>\n",
              "    <tr>\n",
              "      <th>64</th>\n",
              "      <td>29</td>\n",
              "      <td>1</td>\n",
              "      <td>1</td>\n",
              "      <td>130</td>\n",
              "      <td>204</td>\n",
              "      <td>0</td>\n",
              "      <td>0</td>\n",
              "      <td>202</td>\n",
              "      <td>0</td>\n",
              "      <td>0.0</td>\n",
              "      <td>2</td>\n",
              "      <td>0</td>\n",
              "      <td>2</td>\n",
              "    </tr>\n",
              "  </tbody>\n",
              "</table>\n",
              "</div>\n",
              "    <div class=\"colab-df-buttons\">\n",
              "\n",
              "  <div class=\"colab-df-container\">\n",
              "    <button class=\"colab-df-convert\" onclick=\"convertToInteractive('df-90150a2e-ce34-4f86-94fa-fb848135bcb5')\"\n",
              "            title=\"Convert this dataframe to an interactive table.\"\n",
              "            style=\"display:none;\">\n",
              "\n",
              "  <svg xmlns=\"http://www.w3.org/2000/svg\" height=\"24px\" viewBox=\"0 -960 960 960\">\n",
              "    <path d=\"M120-120v-720h720v720H120Zm60-500h600v-160H180v160Zm220 220h160v-160H400v160Zm0 220h160v-160H400v160ZM180-400h160v-160H180v160Zm440 0h160v-160H620v160ZM180-180h160v-160H180v160Zm440 0h160v-160H620v160Z\"/>\n",
              "  </svg>\n",
              "    </button>\n",
              "\n",
              "  <style>\n",
              "    .colab-df-container {\n",
              "      display:flex;\n",
              "      gap: 12px;\n",
              "    }\n",
              "\n",
              "    .colab-df-convert {\n",
              "      background-color: #E8F0FE;\n",
              "      border: none;\n",
              "      border-radius: 50%;\n",
              "      cursor: pointer;\n",
              "      display: none;\n",
              "      fill: #1967D2;\n",
              "      height: 32px;\n",
              "      padding: 0 0 0 0;\n",
              "      width: 32px;\n",
              "    }\n",
              "\n",
              "    .colab-df-convert:hover {\n",
              "      background-color: #E2EBFA;\n",
              "      box-shadow: 0px 1px 2px rgba(60, 64, 67, 0.3), 0px 1px 3px 1px rgba(60, 64, 67, 0.15);\n",
              "      fill: #174EA6;\n",
              "    }\n",
              "\n",
              "    .colab-df-buttons div {\n",
              "      margin-bottom: 4px;\n",
              "    }\n",
              "\n",
              "    [theme=dark] .colab-df-convert {\n",
              "      background-color: #3B4455;\n",
              "      fill: #D2E3FC;\n",
              "    }\n",
              "\n",
              "    [theme=dark] .colab-df-convert:hover {\n",
              "      background-color: #434B5C;\n",
              "      box-shadow: 0px 1px 3px 1px rgba(0, 0, 0, 0.15);\n",
              "      filter: drop-shadow(0px 1px 2px rgba(0, 0, 0, 0.3));\n",
              "      fill: #FFFFFF;\n",
              "    }\n",
              "  </style>\n",
              "\n",
              "    <script>\n",
              "      const buttonEl =\n",
              "        document.querySelector('#df-90150a2e-ce34-4f86-94fa-fb848135bcb5 button.colab-df-convert');\n",
              "      buttonEl.style.display =\n",
              "        google.colab.kernel.accessAllowed ? 'block' : 'none';\n",
              "\n",
              "      async function convertToInteractive(key) {\n",
              "        const element = document.querySelector('#df-90150a2e-ce34-4f86-94fa-fb848135bcb5');\n",
              "        const dataTable =\n",
              "          await google.colab.kernel.invokeFunction('convertToInteractive',\n",
              "                                                    [key], {});\n",
              "        if (!dataTable) return;\n",
              "\n",
              "        const docLinkHtml = 'Like what you see? Visit the ' +\n",
              "          '<a target=\"_blank\" href=https://colab.research.google.com/notebooks/data_table.ipynb>data table notebook</a>'\n",
              "          + ' to learn more about interactive tables.';\n",
              "        element.innerHTML = '';\n",
              "        dataTable['output_type'] = 'display_data';\n",
              "        await google.colab.output.renderOutput(dataTable, element);\n",
              "        const docLink = document.createElement('div');\n",
              "        docLink.innerHTML = docLinkHtml;\n",
              "        element.appendChild(docLink);\n",
              "      }\n",
              "    </script>\n",
              "  </div>\n",
              "\n",
              "\n",
              "<div id=\"df-7c4906be-e78e-4221-88f0-fc7dd7119814\">\n",
              "  <button class=\"colab-df-quickchart\" onclick=\"quickchart('df-7c4906be-e78e-4221-88f0-fc7dd7119814')\"\n",
              "            title=\"Suggest charts\"\n",
              "            style=\"display:none;\">\n",
              "\n",
              "<svg xmlns=\"http://www.w3.org/2000/svg\" height=\"24px\"viewBox=\"0 0 24 24\"\n",
              "     width=\"24px\">\n",
              "    <g>\n",
              "        <path d=\"M19 3H5c-1.1 0-2 .9-2 2v14c0 1.1.9 2 2 2h14c1.1 0 2-.9 2-2V5c0-1.1-.9-2-2-2zM9 17H7v-7h2v7zm4 0h-2V7h2v10zm4 0h-2v-4h2v4z\"/>\n",
              "    </g>\n",
              "</svg>\n",
              "  </button>\n",
              "\n",
              "<style>\n",
              "  .colab-df-quickchart {\n",
              "      --bg-color: #E8F0FE;\n",
              "      --fill-color: #1967D2;\n",
              "      --hover-bg-color: #E2EBFA;\n",
              "      --hover-fill-color: #174EA6;\n",
              "      --disabled-fill-color: #AAA;\n",
              "      --disabled-bg-color: #DDD;\n",
              "  }\n",
              "\n",
              "  [theme=dark] .colab-df-quickchart {\n",
              "      --bg-color: #3B4455;\n",
              "      --fill-color: #D2E3FC;\n",
              "      --hover-bg-color: #434B5C;\n",
              "      --hover-fill-color: #FFFFFF;\n",
              "      --disabled-bg-color: #3B4455;\n",
              "      --disabled-fill-color: #666;\n",
              "  }\n",
              "\n",
              "  .colab-df-quickchart {\n",
              "    background-color: var(--bg-color);\n",
              "    border: none;\n",
              "    border-radius: 50%;\n",
              "    cursor: pointer;\n",
              "    display: none;\n",
              "    fill: var(--fill-color);\n",
              "    height: 32px;\n",
              "    padding: 0;\n",
              "    width: 32px;\n",
              "  }\n",
              "\n",
              "  .colab-df-quickchart:hover {\n",
              "    background-color: var(--hover-bg-color);\n",
              "    box-shadow: 0 1px 2px rgba(60, 64, 67, 0.3), 0 1px 3px 1px rgba(60, 64, 67, 0.15);\n",
              "    fill: var(--button-hover-fill-color);\n",
              "  }\n",
              "\n",
              "  .colab-df-quickchart-complete:disabled,\n",
              "  .colab-df-quickchart-complete:disabled:hover {\n",
              "    background-color: var(--disabled-bg-color);\n",
              "    fill: var(--disabled-fill-color);\n",
              "    box-shadow: none;\n",
              "  }\n",
              "\n",
              "  .colab-df-spinner {\n",
              "    border: 2px solid var(--fill-color);\n",
              "    border-color: transparent;\n",
              "    border-bottom-color: var(--fill-color);\n",
              "    animation:\n",
              "      spin 1s steps(1) infinite;\n",
              "  }\n",
              "\n",
              "  @keyframes spin {\n",
              "    0% {\n",
              "      border-color: transparent;\n",
              "      border-bottom-color: var(--fill-color);\n",
              "      border-left-color: var(--fill-color);\n",
              "    }\n",
              "    20% {\n",
              "      border-color: transparent;\n",
              "      border-left-color: var(--fill-color);\n",
              "      border-top-color: var(--fill-color);\n",
              "    }\n",
              "    30% {\n",
              "      border-color: transparent;\n",
              "      border-left-color: var(--fill-color);\n",
              "      border-top-color: var(--fill-color);\n",
              "      border-right-color: var(--fill-color);\n",
              "    }\n",
              "    40% {\n",
              "      border-color: transparent;\n",
              "      border-right-color: var(--fill-color);\n",
              "      border-top-color: var(--fill-color);\n",
              "    }\n",
              "    60% {\n",
              "      border-color: transparent;\n",
              "      border-right-color: var(--fill-color);\n",
              "    }\n",
              "    80% {\n",
              "      border-color: transparent;\n",
              "      border-right-color: var(--fill-color);\n",
              "      border-bottom-color: var(--fill-color);\n",
              "    }\n",
              "    90% {\n",
              "      border-color: transparent;\n",
              "      border-bottom-color: var(--fill-color);\n",
              "    }\n",
              "  }\n",
              "</style>\n",
              "\n",
              "  <script>\n",
              "    async function quickchart(key) {\n",
              "      const quickchartButtonEl =\n",
              "        document.querySelector('#' + key + ' button');\n",
              "      quickchartButtonEl.disabled = true;  // To prevent multiple clicks.\n",
              "      quickchartButtonEl.classList.add('colab-df-spinner');\n",
              "      try {\n",
              "        const charts = await google.colab.kernel.invokeFunction(\n",
              "            'suggestCharts', [key], {});\n",
              "      } catch (error) {\n",
              "        console.error('Error during call to suggestCharts:', error);\n",
              "      }\n",
              "      quickchartButtonEl.classList.remove('colab-df-spinner');\n",
              "      quickchartButtonEl.classList.add('colab-df-quickchart-complete');\n",
              "    }\n",
              "    (() => {\n",
              "      let quickchartButtonEl =\n",
              "        document.querySelector('#df-7c4906be-e78e-4221-88f0-fc7dd7119814 button');\n",
              "      quickchartButtonEl.style.display =\n",
              "        google.colab.kernel.accessAllowed ? 'block' : 'none';\n",
              "    })();\n",
              "  </script>\n",
              "</div>\n",
              "\n",
              "    </div>\n",
              "  </div>\n"
            ],
            "application/vnd.google.colaboratory.intrinsic+json": {
              "type": "dataframe",
              "variable_name": "x_test",
              "summary": "{\n  \"name\": \"x_test\",\n  \"rows\": 257,\n  \"fields\": [\n    {\n      \"column\": \"age\",\n      \"properties\": {\n        \"dtype\": \"number\",\n        \"std\": 9,\n        \"min\": 29,\n        \"max\": 77,\n        \"num_unique_values\": 38,\n        \"samples\": [\n          41,\n          68,\n          29\n        ],\n        \"semantic_type\": \"\",\n        \"description\": \"\"\n      }\n    },\n    {\n      \"column\": \"sex\",\n      \"properties\": {\n        \"dtype\": \"number\",\n        \"std\": 0,\n        \"min\": 0,\n        \"max\": 1,\n        \"num_unique_values\": 2,\n        \"samples\": [\n          0,\n          1\n        ],\n        \"semantic_type\": \"\",\n        \"description\": \"\"\n      }\n    },\n    {\n      \"column\": \"cp\",\n      \"properties\": {\n        \"dtype\": \"number\",\n        \"std\": 1,\n        \"min\": 0,\n        \"max\": 3,\n        \"num_unique_values\": 4,\n        \"samples\": [\n          2,\n          3\n        ],\n        \"semantic_type\": \"\",\n        \"description\": \"\"\n      }\n    },\n    {\n      \"column\": \"trestbps\",\n      \"properties\": {\n        \"dtype\": \"number\",\n        \"std\": 17,\n        \"min\": 94,\n        \"max\": 200,\n        \"num_unique_values\": 41,\n        \"samples\": [\n          135,\n          102\n        ],\n        \"semantic_type\": \"\",\n        \"description\": \"\"\n      }\n    },\n    {\n      \"column\": \"chol\",\n      \"properties\": {\n        \"dtype\": \"number\",\n        \"std\": 48,\n        \"min\": 126,\n        \"max\": 417,\n        \"num_unique_values\": 120,\n        \"samples\": [\n          268,\n          294\n        ],\n        \"semantic_type\": \"\",\n        \"description\": \"\"\n      }\n    },\n    {\n      \"column\": \"fbs\",\n      \"properties\": {\n        \"dtype\": \"number\",\n        \"std\": 0,\n        \"min\": 0,\n        \"max\": 1,\n        \"num_unique_values\": 2,\n        \"samples\": [\n          0,\n          1\n        ],\n        \"semantic_type\": \"\",\n        \"description\": \"\"\n      }\n    },\n    {\n      \"column\": \"restecg\",\n      \"properties\": {\n        \"dtype\": \"number\",\n        \"std\": 0,\n        \"min\": 0,\n        \"max\": 2,\n        \"num_unique_values\": 3,\n        \"samples\": [\n          0,\n          1\n        ],\n        \"semantic_type\": \"\",\n        \"description\": \"\"\n      }\n    },\n    {\n      \"column\": \"thalach\",\n      \"properties\": {\n        \"dtype\": \"number\",\n        \"std\": 22,\n        \"min\": 71,\n        \"max\": 202,\n        \"num_unique_values\": 73,\n        \"samples\": [\n          202,\n          141\n        ],\n        \"semantic_type\": \"\",\n        \"description\": \"\"\n      }\n    },\n    {\n      \"column\": \"exang\",\n      \"properties\": {\n        \"dtype\": \"number\",\n        \"std\": 0,\n        \"min\": 0,\n        \"max\": 1,\n        \"num_unique_values\": 2,\n        \"samples\": [\n          0,\n          1\n        ],\n        \"semantic_type\": \"\",\n        \"description\": \"\"\n      }\n    },\n    {\n      \"column\": \"oldpeak\",\n      \"properties\": {\n        \"dtype\": \"number\",\n        \"std\": 1.1453708534895353,\n        \"min\": 0.0,\n        \"max\": 4.4,\n        \"num_unique_values\": 35,\n        \"samples\": [\n          1.6,\n          0.6\n        ],\n        \"semantic_type\": \"\",\n        \"description\": \"\"\n      }\n    },\n    {\n      \"column\": \"slope\",\n      \"properties\": {\n        \"dtype\": \"number\",\n        \"std\": 0,\n        \"min\": 0,\n        \"max\": 2,\n        \"num_unique_values\": 3,\n        \"samples\": [\n          1,\n          2\n        ],\n        \"semantic_type\": \"\",\n        \"description\": \"\"\n      }\n    },\n    {\n      \"column\": \"ca\",\n      \"properties\": {\n        \"dtype\": \"number\",\n        \"std\": 1,\n        \"min\": 0,\n        \"max\": 4,\n        \"num_unique_values\": 5,\n        \"samples\": [\n          4,\n          2\n        ],\n        \"semantic_type\": \"\",\n        \"description\": \"\"\n      }\n    },\n    {\n      \"column\": \"thal\",\n      \"properties\": {\n        \"dtype\": \"number\",\n        \"std\": 0,\n        \"min\": 0,\n        \"max\": 3,\n        \"num_unique_values\": 4,\n        \"samples\": [\n          3,\n          0\n        ],\n        \"semantic_type\": \"\",\n        \"description\": \"\"\n      }\n    }\n  ]\n}"
            }
          },
          "metadata": {},
          "execution_count": 18
        }
      ]
    },
    {
      "cell_type": "code",
      "source": [
        "# use the model to predict on the test data (further evaluation)\n",
        "\n",
        "y_preds = clf.predict(x_test)\n",
        "y_preds"
      ],
      "metadata": {
        "colab": {
          "base_uri": "https://localhost:8080/"
        },
        "id": "tGqjGq0Dd00y",
        "outputId": "a059dfad-3be1-45d7-9784-bf2add788f31"
      },
      "execution_count": 19,
      "outputs": [
        {
          "output_type": "execute_result",
          "data": {
            "text/plain": [
              "array([0, 0, 1, 0, 1, 0, 1, 0, 0, 1, 0, 1, 0, 0, 1, 1, 0, 1, 1, 1, 1, 1,\n",
              "       0, 0, 0, 0, 0, 0, 0, 0, 1, 1, 1, 0, 1, 1, 0, 0, 0, 1, 1, 0, 1, 1,\n",
              "       0, 0, 0, 0, 0, 0, 0, 1, 1, 0, 1, 0, 0, 0, 0, 1, 0, 0, 1, 1, 1, 0,\n",
              "       1, 0, 0, 0, 1, 0, 1, 0, 1, 1, 1, 0, 0, 1, 0, 1, 1, 1, 0, 0, 1, 1,\n",
              "       1, 0, 1, 0, 1, 1, 1, 0, 1, 0, 1, 0, 1, 1, 1, 1, 1, 1, 1, 0, 1, 0,\n",
              "       1, 0, 0, 1, 1, 1, 1, 1, 1, 1, 0, 0, 1, 1, 1, 0, 0, 1, 1, 1, 0, 0,\n",
              "       1, 0, 0, 1, 0, 1, 0, 1, 0, 0, 0, 1, 0, 0, 1, 1, 0, 0, 0, 1, 0, 0,\n",
              "       0, 0, 1, 1, 1, 1, 1, 0, 1, 0, 1, 0, 1, 0, 1, 1, 0, 1, 0, 1, 0, 1,\n",
              "       0, 1, 0, 0, 0, 1, 0, 0, 1, 1, 1, 0, 0, 1, 0, 1, 0, 1, 1, 1, 1, 1,\n",
              "       0, 0, 1, 0, 0, 0, 0, 0, 0, 0, 1, 0, 0, 0, 1, 0, 1, 0, 1, 0, 1, 1,\n",
              "       1, 1, 0, 0, 1, 1, 1, 0, 1, 0, 1, 1, 1, 0, 1, 0, 0, 0, 1, 0, 0, 1,\n",
              "       1, 0, 0, 0, 0, 0, 1, 0, 0, 1, 0, 1, 1, 1, 1])"
            ]
          },
          "metadata": {},
          "execution_count": 19
        }
      ]
    },
    {
      "cell_type": "markdown",
      "source": [
        "Each model or estimator has built-in method\n",
        "```\n",
        "score()\n",
        "```\n",
        "for each model uses a standard evaluation metric to measure your models results."
      ],
      "metadata": {
        "id": "zgoy-I5_eLCm"
      }
    },
    {
      "cell_type": "code",
      "source": [
        "# Evaluate the model on the training set\n",
        "\n",
        "train_acc = clf.score(X=x_train, y=y_train)\n",
        "print(f\"The model's accuracy on the training dataset is: {train_acc*100}%\")"
      ],
      "metadata": {
        "colab": {
          "base_uri": "https://localhost:8080/"
        },
        "id": "8Ai-fCp1d9h7",
        "outputId": "35464fbe-1a0e-4ee2-f0f3-1b2a9c2e3882"
      },
      "execution_count": 20,
      "outputs": [
        {
          "output_type": "stream",
          "name": "stdout",
          "text": [
            "The model's accuracy on the training dataset is: 100.0%\n"
          ]
        }
      ]
    },
    {
      "cell_type": "markdown",
      "source": [
        "Now, to check our model on test dataset"
      ],
      "metadata": {
        "id": "jJ701mabfBjk"
      }
    },
    {
      "cell_type": "code",
      "source": [
        "# evaluate the model on the test set\n",
        "\n",
        "test_acc = clf.score(X= x_test, y=y_test)\n",
        "print(f\"The model's accuracy on the testing dataset is : {test_acc*100:.2f}%\")"
      ],
      "metadata": {
        "colab": {
          "base_uri": "https://localhost:8080/"
        },
        "id": "jY_iqwHCe3FJ",
        "outputId": "a757cbae-1c96-4c6d-bfe1-1334a9ed13d7"
      },
      "execution_count": 21,
      "outputs": [
        {
          "output_type": "stream",
          "name": "stdout",
          "text": [
            "The model's accuracy on the testing dataset is : 100.00%\n"
          ]
        }
      ]
    },
    {
      "cell_type": "markdown",
      "source": [
        "![image.png](data:image/png;base64,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)"
      ],
      "metadata": {
        "id": "_ZXqJ2_Dfakt"
      }
    },
    {
      "cell_type": "code",
      "source": [
        "from sklearn.metrics import classification_report , confusion_matrix , accuracy_score\n",
        "\n",
        "# create a classification report\n",
        "\n",
        "print(classification_report(y_test , y_preds))\n",
        "\n",
        "# create a confusion matrix\n",
        "print('             Confusion Matrix')\n",
        "print('')\n",
        "print(confusion_matrix(y_test , y_preds))\n",
        "\n",
        "# calculate the accuracy\n",
        "print('             Accuracy_score')\n",
        "print('')\n",
        "print(accuracy_score(y_test , y_preds))"
      ],
      "metadata": {
        "colab": {
          "base_uri": "https://localhost:8080/"
        },
        "id": "n7uCyx2yfUiy",
        "outputId": "db8e8964-4db4-4cb3-9b0f-8a37f65519d1"
      },
      "execution_count": 22,
      "outputs": [
        {
          "output_type": "stream",
          "name": "stdout",
          "text": [
            "              precision    recall  f1-score   support\n",
            "\n",
            "           0       1.00      1.00      1.00       129\n",
            "           1       1.00      1.00      1.00       128\n",
            "\n",
            "    accuracy                           1.00       257\n",
            "   macro avg       1.00      1.00      1.00       257\n",
            "weighted avg       1.00      1.00      1.00       257\n",
            "\n",
            "             Confusion Matrix\n",
            "\n",
            "[[129   0]\n",
            " [  0 128]]\n",
            "             Accuracy_score\n",
            "\n",
            "1.0\n"
          ]
        }
      ]
    },
    {
      "cell_type": "markdown",
      "source": [
        "## The first model you build is the baseline\n",
        "\n",
        "![image.png](data:image/png;base64,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)"
      ],
      "metadata": {
        "id": "ImUk2RZJiVoC"
      }
    },
    {
      "cell_type": "code",
      "source": [
        "# try differnt numbers of estimators (trees) ... (no cross_validation)\n",
        "np.random.seed(42)\n",
        "for i in range(100,200,10) :\n",
        "  print(f\"Trying model with {i} estimators...\")\n",
        "  model = RandomForestClassifier(n_estimators = i).fit(x_train, y_train)\n",
        "  print(f\"model accuracy on test set: {model.score(x_test, y_test)*100:.2f}%\")\n",
        "  print(\"\")"
      ],
      "metadata": {
        "colab": {
          "base_uri": "https://localhost:8080/"
        },
        "id": "6NO504gLf5iR",
        "outputId": "b807b58a-4737-40e4-cbf6-301a58cf06fe"
      },
      "execution_count": 23,
      "outputs": [
        {
          "output_type": "stream",
          "name": "stdout",
          "text": [
            "Trying model with 100 estimators...\n",
            "model accuracy on test set: 100.00%\n",
            "\n",
            "Trying model with 110 estimators...\n",
            "model accuracy on test set: 100.00%\n",
            "\n",
            "Trying model with 120 estimators...\n",
            "model accuracy on test set: 100.00%\n",
            "\n",
            "Trying model with 130 estimators...\n",
            "model accuracy on test set: 100.00%\n",
            "\n",
            "Trying model with 140 estimators...\n",
            "model accuracy on test set: 100.00%\n",
            "\n",
            "Trying model with 150 estimators...\n",
            "model accuracy on test set: 100.00%\n",
            "\n",
            "Trying model with 160 estimators...\n",
            "model accuracy on test set: 100.00%\n",
            "\n",
            "Trying model with 170 estimators...\n",
            "model accuracy on test set: 100.00%\n",
            "\n",
            "Trying model with 180 estimators...\n",
            "model accuracy on test set: 100.00%\n",
            "\n",
            "Trying model with 190 estimators...\n",
            "model accuracy on test set: 100.00%\n",
            "\n"
          ]
        }
      ]
    },
    {
      "cell_type": "markdown",
      "source": [
        "## Let's use this to measure the results across 5 different train and test sets\n",
        "\n",
        "\n",
        "```\n",
        "sklearn.model_selection.cross_val_score\n",
        "```\n",
        "\n",
        "we can achieve by setting\n",
        "\n",
        "\n",
        "```\n",
        "cross_val_score(X, y ,cv=5)\n",
        "```\n",
        "cv -> number of train and test splits\n",
        "cross_val_score will automatically create from the data\n",
        "\n",
        "\n"
      ],
      "metadata": {
        "id": "2C8_hFjbjobi"
      }
    },
    {
      "cell_type": "code",
      "source": [
        "from sklearn.model_selection import cross_val_score\n",
        "\n",
        "# with cross- validation\n",
        "np.random.seed(42)\n",
        "for i in range(100,200 ,10) :\n",
        "  print(f\"Trying model with {i} estimators...\")\n",
        "\n",
        "  model = RandomForestClassifier(n_estimators = i).fit(x_train, y_train)\n",
        "\n",
        "  # Measire the model score on a single train/test split\n",
        "  model_score = model.score(x_test, y_test)\n",
        "  print(f\"model accuracy on test set: {model_score*100:.2f}%\")\n",
        "\n",
        "  # Measure the mean cross-validation score across 5 different train and test splits\n",
        "  cross_val_mean = np.mean(cross_val_score(model, x, y, cv=5))\n",
        "  print(f\"cross validation mean: {cross_val_mean*100:.2f}%\")\n",
        "  print(\"\")\n"
      ],
      "metadata": {
        "colab": {
          "base_uri": "https://localhost:8080/"
        },
        "id": "dyyXXZOsjWv4",
        "outputId": "123636d1-a910-4c4c-afda-9ab0bc22af7e"
      },
      "execution_count": 24,
      "outputs": [
        {
          "output_type": "stream",
          "name": "stdout",
          "text": [
            "Trying model with 100 estimators...\n",
            "model accuracy on test set: 100.00%\n",
            "cross validation mean: 99.71%\n",
            "\n",
            "Trying model with 110 estimators...\n",
            "model accuracy on test set: 100.00%\n",
            "cross validation mean: 99.71%\n",
            "\n",
            "Trying model with 120 estimators...\n",
            "model accuracy on test set: 100.00%\n",
            "cross validation mean: 99.71%\n",
            "\n",
            "Trying model with 130 estimators...\n",
            "model accuracy on test set: 100.00%\n",
            "cross validation mean: 99.41%\n",
            "\n",
            "Trying model with 140 estimators...\n",
            "model accuracy on test set: 100.00%\n",
            "cross validation mean: 99.71%\n",
            "\n",
            "Trying model with 150 estimators...\n",
            "model accuracy on test set: 100.00%\n",
            "cross validation mean: 99.71%\n",
            "\n",
            "Trying model with 160 estimators...\n",
            "model accuracy on test set: 100.00%\n",
            "cross validation mean: 99.71%\n",
            "\n",
            "Trying model with 170 estimators...\n",
            "model accuracy on test set: 100.00%\n",
            "cross validation mean: 99.71%\n",
            "\n",
            "Trying model with 180 estimators...\n",
            "model accuracy on test set: 100.00%\n",
            "cross validation mean: 99.71%\n",
            "\n",
            "Trying model with 190 estimators...\n",
            "model accuracy on test set: 100.00%\n",
            "cross validation mean: 99.71%\n",
            "\n"
          ]
        }
      ]
    },
    {
      "cell_type": "markdown",
      "source": [
        "which model had the best cross-validation score?\n",
        "This is usually a better indicator of aqoality model than a single split accuracy score\n",
        "\n",
        "![image.png](data:image/png;base64,iVBORw0KGgoAAAANSUhEUgAAA3EAAABCCAYAAAD5cl/SAAAAAXNSR0IArs4c6QAAAARnQU1BAACxjwv8YQUAAAAJcEhZcwAADsMAAA7DAcdvqGQAACTMSURBVHhe7Z1PaBvJtsa/+9aGZjQQe6WL4VoDMxCPN7YfjL0JgeS+BHsx2TwrMN7FiHgzymyCVyKbGWUjY5ydL0R5m2RhkXk3gcEb+8KTvfE4MAMjXxBXK3sgAoH39y2qWl1dVd1drT+ONfl+YEi6W11Vp05XndN1TvWfPvnkk3+DkBhmZmb0Q4QQQkiI4+Nj/RAhhJAh8R/6AUIIIYQQQgghVxc6cYQQQgghhBAyQtCJI4QQQgghhJARgk4cIYQQQgghhIwQI+DEVVBvt9E+rASH1nbRbLdR31SvM6kcttFu16H8knxQ7qFc28NerYx7+ikLxZ097O0pfztF/RLSN+n6xKSIHbWP9vaw80i/5mowevoUyPaqynSY3HtaE/2USjf71ecR4esyant7qD0dkVbKObtZK+hnCAlwtO3ICCH7tN1uo93cRfoRQPgA6thRqDXRbjexuxa6EEABu01ZVuh81PHRZ7hO3GZdCk39+8BO1Wa9pzpEK80VZ20XzVGsN4Dy6g3cuHEDN268QUs/Sa4IZazekP309mr30ofXpz+ogyEdCtVBvorOheHE7+3gqrvxA+XRjtZ+5eWAPBfdb/KFwh9Nd68KPdolhPRLodbs0blyYG0XzSeLwMEGMpkMMpPL2NKvGRgF7DZLWMQ+NjIZZDKTWN6OO35FSTkWDM2Jqxy20V4BqpmM6Dz5Vz3Vr0xiHfOZDDJz6/qJRNbnMshk5qH+spAdV/5HCCFXlcBBXv1BP3c1KO7sYW9tBvj5mXSQxV8V+b5XD19+uyTut1TES/1kKoTzfDvbwhuljjdu/IIvPhKnpLizh71bWbTequ1/hvdfSUf2h1/QAjD2lzm7PB59gSyAi38e9tYX28uYzGQwuTQ8E26UoV1CPhSfTXj6ocHx+QQ8dHDydrDP/dbSpMUZ+wwTHtB595PmKEYdv5qkHQuG48Rt1pGfAhovwg4UAKzPmccIIYSMFvee1nA7C7Te3sDSt2HT/uW3S1fH8Xz0V8yMAa23qyiHTpSx2reDePVR+yncJy9RXPJlUsYvLQBjU5j7Wr1GUPw8C+ACp//3R5cWIYSMDsNx4gAAHZz9qh+LRuSvKX/d5V0zHtaOzJ1T4qkrh+Z9SgsegBzy8trk+6YlqEd0/K0an6u3N6BbfyWmuL4ZjhsXYZ7BfVxjyQ15qzmHPSFDxXoIqQrCnPoJb3LPzXIKq5IhYjuPzDCkcLtEubWn94zrospP5NGOrFM4J6qbI2Spb3Aupk2ApZ8eYGZMv0ZihF9F3XM4GG2KXDVx73t3dDnp/R7G0Ckl3y5oh5T12AwexMnVCE+soWwxrH0MOen38+tXK+OeLque8wKL+OuXY8DFMf7u4KwF5etyjaircx31+5n6fG8iEz6QiH7P6L43ZW/pK+exRCHNsxe6Vi//Hub+4tZP5V9bAMYw9Z96nYr4Igvg4hSHr7RTrkTkOvU0D1nSNPT7Gsjf6NdFpUmEbYfkMuPy7+POOdslCeUnkSxnF7vFch9LuyLtluAKrSxLe7t9E39NJGoelvX30gaz2F3dcyEZmTabLn9R3zoqSvuS6uwizyh0+djaYlxj2VsiPwXAW0Qpol02kustZbCSA+Bh8YnrvXXdsOthIGuBqE8eOQDeQqnb1qjjAcnlJeqz/mwa/aD4MNq1Yf1wHAs0huPE/XqGDjwsfuOijqLi+Wt+vKoMu3ynXxdHAbvNPHJooJrJYP6hfh7dsMyNgw4gr8sMOrxjbRfNdh7jfvxvJoONA2DxSbjTC7Uipt8F12QyVTS8RZSMgRUAplF8MoHX8lq1beN3miiirJTVQW5FU7DtZUyGlp3FYBSWdxUN5SfpKWJn7wFmcIxnSrjSQSZvGjQaxZ093M4CFz8/w40b+ptyR74uo7Z3G9nWmyBU6G0L2VumkVTc2cMXv6ohRW/QQha3I4yk7K097N1CNwzr2c8XGPvygeEkjH35wLgue0s3qNKQxe29BbzfvoE3LSD7VQ35v5zimazvQrddwuB88GVbCRV7huOLLG7rBt3XZdT2HmDqn2ro2zMcXyjXSO49rRnhV29alnsOieLOHh58CRxvK331j0+R143eFH3vjkWft4+BLx9YHArhFOmhes/aC10d6YYF+rK+CD8nht6/KmLJv8/Pls7pkqLv4TuPtwG/T7ePcZG93Zucvp5AJm143dgMHoT0Tz57mnPunLvoqM8v/+8UF/JZ1p9bE/e+v/e0hjyqWtljmFmzyD7FWGINfdx+jwVD9wD8JY+9r9536/qmNYaZNWUs+3oOU2MA2mfJ/RQVUilDKVv/GOSqZa/zUAV1LU1DzHum8RXi4REaAMazYYNIhJJ5mL4VNqZmp9Twq+Qy148aAHKYNYxUea+D5xERSMl2SeWwjfbKOPYfB+VnXjSQW0k28Jzk7Gi3YLOOPKpBHTIb2O/kkDeMVkTbLZt1tLWyMpkqTrRfj99pojTxOiRvb6Hk4ARIA//JIs5fKPJ6vA8slBQDfgs/vesA3jRu6nqzdhPTHtA48nusgnq7hMXflbZHyn8cd5t3cSb7Kta+TCXPMJXDNkoL54pObmD/96RrqmhM5QMnQ4Y4V08BdAL9sNvPPhH2+mkO+ZADJNOgXjQAdLq6G3tvqYe5U0Umj08w/UQ4YXGI1Cmh1x1ft+bWI48DKfQeiNTnQq2pPZsb2MciSoZTC+B6Ee3Zo6BtLxrwFkqKDiWPBTaG48RtL6N80AGm8qbXqlE5zCPX2ceGlvC4vuSeAFk5LGHR62D/8YcM1Sxg97tFeKfVkNC3lsrY7wC52aBLt5YmtY5Zx/ODDjA1a3a85+HcEpYKAB5OUA6V9RoNhMsy8AeoH1X5rmO+h5zDLhEGXXl1CcWYN7e+A2cLx0pD8b9mMHZxjGeriin8wyretEyDpLyqhxSVsfq2BSCDCYvhJQzuwMj2DcLMhG74tvDGuM72VjsFrYNAfmPA6fPAiBrL/Fn849FfMTN2geNt1RF4ieLSG7Qwhpn/8s25eyjfF3KqJsparLJc/PwsJKvyqrhnX21y4h4mMpY3/z+sGnqSpu9dufd0AVm08EYNtXtVRPXnCyD7RcjZF9fq8r+kcELnvg8IhdS9OsTpRY9ymvwUUQu4cYSfdT+E71NIbU5BCn1+VcTS9nHXkduLWd1L0/cvv13S9PElis+PcYExfDqpHPZxGUu+LmNBvtQK6c+rIpZUHZeM4RTPlLqK1bQsvvAdQ9lPF+1/Kb+Kwh5SKUIpW/hlkPrc8zy0jnktz13Me7ojprOOo1PAu35TMZArmJ3qoHHaCR9fy2I8lMfjUKZ0Eo25d3MWuX5ygrqpKVr+z8N56dgU453XRDm72y14OK/tTbCF5R8bdkfIardUUF/JoXOwYdg/y5qh6uEEG0pZTrYNhGFeXPDQOdgIOwzby5h80QCm8l17dOvtCToWval8swgPDRzJ33dtVLXtD+dRNfQJADzgXdlt44w08gxhezGwheU5pY8368hP6TbxOuZfuNw/msqhXCzR7fW5Dex3PCx+l+yA2pF6qMvZ77eBk0LvEaHPUtfCz+YWlr/fR8fyQsfzzlEN6dBz7HdsOpSO4Thx3cRD4QHnVixLkIDljVd6Kodtqax6kuMlY7y98ZFvfGwOmsJW6xzAOLLGwxUMJjqm3H7DWQfAtWy0Umy3cO4yGKbh1RnacjXK9a3+3M4ebmcvcLytO1VpEaE+ugMJAP9qXxgGSTR2w8u4r1wl0Z0JtH7pbRUxhtav6h3bOLM4xMXPs6azAwQGWWZCGuh/xqdjlvbYePQFstb8l3/hfa9Gfype4qwtV24iQygxwL5XkeFnlv58edYOG8jdaxVn+xJx73ufARviGnoYpL7CZCtfrLr1sgKfQp+hrG5KZw7Z2xZnLk3fx2O+5LHU1TKW3PvPKYyhhQN9fInAuGefmCGVMpTSIpO+GOg8JOY9b+Iz/USI9SPNgN2cRa5zgudH54A3Af/XhVvT8Don+CnWntDLtL+IrczmgMR7RSN+v4/nFhvAd0ImPtfPKCTJuU+7xY+6MutgsVtSOLQ92TZ+36GB17bVC301dvsnnBhGtO4gRduohj4BgGP7IomUp4rUvRjjP1LvHh45vPCIQpeNir+yGTxHqbC+bJDIfhsoqfXe1Gdf1/Tjvl4Zz9zpkSa3LbR+R+8ykwzNiRPIJdXMhvBuV7R41M1Z5ACct4xuc2L8TtP+lqoHzBhf21J5DJ9PwFMcVvVPxLjqaDHWKxELxp0z/KYfk5hyk0oRiz/ZiFVSMza+F8pYlWFMY18+SM73GJvBTFY/2CNyFVAt1/978KVtrcDMn9q7NajKXDZyxSoOf5VDyskFkUM0hpk1TU6WfKNhUV6VoYRq/pju0KXuexeEc9A18mP1RF77QUjR95dENwzyMj41kUKfQ3RDVWXYZSicNE3foxvOGrpubaanFUqfP2f6+bWF5ntcqCv3SeghlX4oZeiF0iDocx4K5ZaUsGibYnU0A7kymwN+b2Hr4REa3TfnBdy87onj2s+TyhROlfoGXhi9VsPUiQKy12CvCwIHTQ8RDZMg59R2i2YrPVmE9SqL3VKZzQE4R8vBVuvNtpHhsZayBbrjbVn50h3NtSzG1Xwq9c9qs7m1T8VJniH8ess8NiP8UuqNkucW/CWHJkYiZWH2jSB6IcIBuYtlmn00+iKt3lt0SoRiB7lrwZ85NgBA50y/A/DbWUc/lJohO3E+W1ielLGeynK2oP+OMzzeHhCxs+G/pFhUkyD21/wLlmLFQ1sK58UNZcnYjlgllbHQDiGvbrxEcSmclzJmySMB/LAiGfKl5m/0glwFFDl1Sg5J908J6fTzp/ScpMswOoeCXLGy4ockvodLIJWKWHUQq6SmPAex5bsbQS6Z6tAp+pKm750Rq41Qc+y0v/5WjgfFcPreGd3YHzn80EfVwUnT9zJ3bkz7bIG/0ndVkM+IuSobRTikciihlJKe5iF/c4FQjpp4SZxI6A25MHTFm3hh3AtnSGxHHnpD71qm/gZ+cxY525v6SyZZzm52i79JRiiP6/E+dDHEYjGGPyjaylTUClZDza8L/fW+gNCXPB/OI+PnT0lnzVh0UHPLtL/0tu0fETe9j0XJJTT+EkPDB8MlOXECP665++bIaek4mvMfJ4XzM5U3FfiycW3L2i7uTolB4UM/SMJx9VdJLYmYPfMSxSX5pjvSeChjNWFTETdShPjJ/JDBJuj3QnjXyX6IDhvUws38kFf9jbzcfj1E833/+XwD5uW3S3KTDzV3MUXfOyOdIy3/yY40eJ2uHTzOfd8j3Z0X9RVQwDD2L500+uxMir7384B//vtAwwyNnLa+8ftpBn91vGcQUlkULwMGHUqpkWYeqnwj82ZcjawQMlTqWhaFtZuY9nwHSxz3rt9EweJ4uZcZDsWqzOYsIVRpkKtPUSGECSsjOlY5u9otqOC+zDXr1Tj9TSyD9RU6lkR8GfJ7YaEVETVX0hI66bTa2Qv9yxOagx7kRyboTa8kyEJ83yz9SiSQoIdSzwdKXHmOxOva5TEcJ26zEjsQd/HfXN3Rl4NT0E3wVXd5SaLHJd84XNsSsWwsQg0+BHLi6Ucmj3bMFTe5K1q8IVnG6vYxLvpy5F6i+I+WWKXR6xBB9vPgOn8XxktFhihBq0svvPz2wLKieQ/l2m1kQ7k1Zfz95wsguxDsnPdoB3u3gJa+EPmqiIOWWEnt18nsjSJ2DH3wt0pXc8DS970L5f+VOml1XsJEXXvvac0iu5c4/KdYUXQ1qONw7/tekPJGtKPmb3QTtRvjcHHX5+KO7WWJ3BgFFzj+38BFierPKEIvEB7t9B1OiR/+juMLmDvbfl1GrUcdF/1k253zHso1/TlTVlm/vC2+rzfwUEobLvNQRHihzG9xYat1DnjTuP/NNDzFwdp6e4KON4Gb2XFttShdmUFIpQylNHJu4jDbLvKuFnHfskIZmZMTiyZnV7slwmEUdXDDl81dZzstPbFl6KGSkm5uW0048OF8OunkLdx3s2ldGYA8VcTuqIFTEqc3VpyckThZyDDkXl9axORu9iqTWFz1PoZYXesbcyyIYjhOHGaRN5bsg88ABA+J3MnF2F6/gN1Dd+FuLU3KNxHJW9A6JQP3hBKnrMWdF2rNoF6Wzy8UaiK371JY20VTk7V4+F73HBaAH1bxrL1g5Ia0XXadfFXE0lvx9jm8Lbqau3ZbOD1Krkoo3+6HVbEduS2XRTV8flgVqznKdQ8yB5cfAiWNJAwk18TPR8zidrfdDzDTfmNsGPHy2yW5Bbm87qv3eHZjFb8o1/iUV4Ot+nWZhgxB9RtV0hkOftOrcV/G6vZ7LITKlW3SQzld+z6NPr0qYunGMxxD/56bZVUq4to8qtawS39FMSzXsCGtfntM5Pap+Ynqte59nx7pcMKyS2iXMlZv3MCznxHOn7zVTwieez+56nN59QZ++VyVtyonLeQ2oj/39rS+98ctNWfzq/cyTLwfRFi6IdP7QNWyO6Ubfj/pepcHntv0RK7eAX30YwI9zUNyhWHqrrIjYwV1pzwiiQyfy0154RWZ7RbOkcPigqdtYpGyzO1lvD4Fxu/cRS5iQxIbkXaJ3AXR+ITCZh2lBQ8Nfcc8nUQ5O9otvpGtGr2yDs7IXcsNO21tF/VBGcIxZTRXcugcWHaO9EMqr49bnZD1v4ndBo2t/zfrKRYONPqSZwV1rS7GBjhy50NDbyy/FQ6gm9OwPldFwyILsUN8I7z7Yirkzpl6VN1mHaXrcAsxTYWj3schn3VD11DAbjM+oiCOyLEggj998skn/9YPDoTNupn4eVqNWDquoK4nXHavFefG1W1p13bRlN8BCbaRLWC3KRMK5W8rh/J7Ftp2qIVas/uwmNvd2lF/oxO6h6xb6Er9Ewq6bE6ryBzNyu9NBDHWUfW3t18Q+RsfW/0i+0UwMzOjHyKEEEJCHB8f64cE+pzVwzwkUOZ5QOa1lIHv5He8En8fvaN11PHUZcr53dW28ImzS0z7w1ZPC65ytl2n2y36NZ19bHwPFDVbJNEG0e0fmXOm6kVPto1KXBkWRN/HXWOxUdFAVcsZFN9lS3CsfRzlaWKpi95XEr9dKrY2qtfZzofRn4fo8kU/hO3aWPR+6+xjY7KF+5oPYJe1xVeIPW7pA5htSdI789nUn9/o8u3tiB8LdIbnxJE/DHTiCCGEJBHpxH1MpDVcCSGkR4YUTkkIIYQQ8jFRwO6dXEJYKCGEDAauxJFEuBJH+uHe05rjd9taeNN3Lhch5EPxsa/EiTAocBWOEHIp0IkjidCJI4QQksTH6sQFOSyOuWqEEDIA6MSRROjEEUIISeJjdeIIIeRDwJw4QgghhBBCCBkhuBJHCCGEEEIIISMEV+IIIYQQQgghZISgE0cIIYQQQgghIwSdOEIIIYQQQggZIejEEUIIIYQQQsgIQSeOEEIIIYQQQkYIOnGEEEIIIYQQMkLQiSOEEEIIIYSQEYJOHCGEEEIIIYSMEHTiCCGEEEIIIWSEoBNHCCGEEEIIISPEkJy4CurtNpq1gn6CkEuA+udTqDXRbtdR0U8Qd9Z20RyiPlUO22g3d9G9uyyvvhm+bjT5AM9iGvn12LdGn40IlcM22m3x5ySfq0qaPu6LD6C/hBDiyJCcODL6FLDb5ORF+kEYQMM3tAbFqNXXkc06HXmCymEb+akGqpkMMpkM5h/qV1xF/qDPZCKcfwkhydCJIxF8hglPP0ZICtayGNePXWWi6ru9jMlMBpNLW/qZkaCQtbaKYPT71p0CstcAnB5hXT91lYl6Jv/wcP4lhCRDJ44QQgghhBBCRojhO3Gb9W4MfrvdRvtQCeqJy0fQzgU5CCLMILhnE7tr+o/RDUdQy9ZDMoJ8IRGy0e6jPDXXQPyZ4Utx5fntVe9hyiWIzxf3MusUrodZB4HeprBsxL3zyAHwFkr2e+n9auSH2OoaUR8HPQjqZ9bdLNvCZj2i72RfqHopCcvYfo3Zb7YydFzaoORiaLK2ysm1vjEk67Cst+W+omxND58swgOQW4loo65DlmfUrkdts6zIOtuuMa+Lra+hgwGGzG33jTnvgriH/Xdx53zZlRY8ADnkZR30Mae+qdSz20cuOuoTjGf+X5SOCoJ7R14ndUOXua5nPlE5anr/GOXF9K3Rd5b7m22P6oswaq6qXo6tLrC0xXgOI/rzf2pNtNslLHoApvLWtuh1sLYj4v6FiLktVEdtnDT6wULsM6mgyyXq3vp1hvyS0Md6S10E5rNj61OjPiFZJsy/hBAydCfuehHtO2fYkDH4mRcNYCofDLLbP+GkA3jXbxqDYeHWNDw08DoU5jKNYrsIfC/vl8mgeuph8Yk+qVdQb5ew+Hu1e13mRQO5FdsAP467zbs4eyyuC4fVOJa3WUceSlmZDex3cshbB3lbeQXsfjeNE3nMr6+3ULIO/t5CCUWUlbI8LD6po37Yxt2zjYQ6JMtma2kSmUwVDQCdA/9+890wnEKtifbKOPa79d3APhZRsk0014soTbw27hHCQQ+OZP5GoVbE9Du/ThlRT28RpbQTcgKVwzZKC+fd/JFMporGVD48cW/W0X6yiPMXQb9tHJyHb2QhVRuuF9GePTL0QtdjUV8ofZJBFXlpwDuQSoeTWZ/LIPN4Hx0ADV8+k8vwn67KYVvTIVMPVfrSeYe2JdXXRBhqYR3JYOPgLLjEoVwX1o8aAHKYNcaCCmangM7Bc/tzhXXMZzLYOOgACHKh9NDB8TvNQIayzc46ullHu53HeHecENeehK8KUTksYdHrYP+xWZcuD4/QADCeDUvqswkPgIfpW+pxKYd3P4X6a/xOUxl7hByixtQwwhHJX9sP5q5MBtV3+nXTKLaDsVyMmWn6dxx3m23MHqn600FuxTT6ncYjid6f/700KXUPwKnUx65uR7T1NIe8xVmG5f6BzHPIt2dx5N/Hn+8P62g+mcBr5bhLP7g8k659nEZ+Vq4X0f4OKKu/9xZRMn6fPL/CWp8N7P8uziXNv4QQ4jNUJ87zzlFVB92Hz7EfMta38NO7DuBN42Zosijg5nXPjN/3PJy/mMTydnBofU4adN8Fg2nlMI9cZx8bc8qvH86jempzFDzgXTl0z+CUW3l4OI+MWha2sPxjw9IuRJS3heXJcDm+rHKzFsO+s49y1/jZwvL3++ggh9w17bilDulkY2FtF8UFD42QXII66Iam552jGpKNjSg9qOD+QlgPtpYmNcNvHc8POsDUrOlA9spmHfmpDvYfqxPnOuZfhOVZmc0BnX08VzYI2Fqat+uSQpo2GPIzniG/vtD6xNfV4P+xpNLhPomoLx7OSyOsaBqPfej8MNpWqBWx6DVQ1YyrraXl4P+DKlc6NMZYsDmLHDo4eRvhCDni4USRocBNRyuor+TQOdgwrl2OcM4Ktaa97w3WcWSMSRXMTnXQOO2Ej69lMW6Rg4eT0Di3tfTaLkeN7hipOQzrS5pTb8wPUkbO/esB7zZCG4xsLU2iegrkVpQXYo7jkY+tP6OoHOaRQyM8T0fNc5K4+zdeKHX055WpHM5Dx2PmtpQ49XFK+dkwbBmsY/7xPjreIu4rc57b/Gp7+bKF5bm4l0aEEGIyVCfOcMKwhdbvALwJfOYfWXqNhv5mde0mpj2gcRT+NZQVmQDfAfDvaX8rC8g32sagbU7+AS7lRfDrGTrwMPG5fiKuPBUpq2tZYxLF761w27ZbOIelzUYd0srGRF8Z6yJX04yJ2dABO1tvT9DR9UAaqft/i7/DVuscwDiyCXV3RThnJ/hJNzIfHoV09bezNAZbPJFtMORnPkM2Z1IgdbVXDP0ZDNH1DfTAKLNnnY/A9TorES+ZXOipXJsDFaOnKTFkGIGhoymdyEKtidKCh8YLt50RjTFpcxa5zgmeH52H9L9waxqeRQ5mu37DWSdiTO0SPUaamOOgkJFr/9plJ1ZeAzlH9rM2Hvm41R0RzoRP9DwXff8Ozn4NH/ntTKwCh+UUM7elxKyL2cdp5WfF9qwbc1607oR1WdTR6aUpIYTEMFQnrnP2m35IDuoq5htXMSlbjLzOGcw7+shJT+5mFcSSK38rOf1HAM7R0gd3H5fyFEJ5BTKW3ySmPC3mPj+lXyCwydWJ1LIxEeFMQX5N8CdzLjSc67q9jNeaHkROvnrOgWPd3ZC7uHmLKBltFHkKPv4LiMUnbWueTjxubbDJL/wMyfrqTk6PuOlwPyTUVzpnehidTQ5pGVjb5Esm1zoNolzh3Kor3cJgbPzY/9v781bUHeJ1tDKbix/PVK4XUVrw0DkIrzzFojm8ldmc0JuHR2h0ZSEdaos+me2SzkMcm7PIWX9rwTY//HoGfYaLJk52frvdxyMfp7ojmA+irjecdknU9fHtGQ5mXfQ+Ti8/G7HPuu8wOs+v/oq8rJMRkkkIIW4M1YlzJfyWSkzKtrdZ8YQnkG4MvfGXFMbjSlCen6Acyn+RsfxuyGTwJ+G8uOqpft1g6Fs2nXD+ROgvMXQymrAe2N9qCoO4FM7XedFQrhgQfu6I5S8IHRM5R6KvpTPnMCFfWhtS0L8OX12G1TbTgAwz0HL1t/6bs8gZKxyDw1lHbY6MBQ9ABylXH0JtFsa4iM4QKxnC0RdbsZtRG/1grihdPlodnMYjEskw5ae9QHCaXx/OI+Pnq0pnzpYLTAghcVwJJy4U1rB2E9OePczEFtoBf3XINyYi3uT3hEt5Mm+rc7DRswNTqN0VeQmuTlSvDEA2IoTQLpe+UfXAFqq1tou7U2KS7G3idQlz6iHUR35rKvNCvF0txk3GfbdBJ76+YuU0iZQ6HFGWG/H1TVodSE/Ktrng9BwNulwZ3iZDKiuzOXuI1yBw1NE0Y0HnXRmTMofI2BwlEtnma1kU1m5i2vOdVnHcu34ThUE7sz2Fu/aKucoF+N/1818SJjwv/ZCgx+F6jCqDkZ83YdNy8QKhu0qXIE8bYhMT8cLWmgtMCCExXA0nTgmprETkNwjMjTP8FZvgbZi818J9Y5OI9DiUF2F0itwxN8JOoY8sZ6Ckl40+eflhXXfjHJWeCfRgdzYHnL4OO7WfT8DT31B3w7oSkGFOxgRr+ZisWBEMJ6w7ITeg0GUWop82RBCdm+eoQ846bObj+cQ5i7rM4+QbmXPZK85tC9Dra+LwHPVQbhJBSKUMpUy1+mR3GKw46mjqsWB7GZNyx0LX7d23WueAN43730zDUzc4enuCjjeBm9lxy9jZB/7q353kFfX+seVjyfBQpU1xz0t/xOlxH3mfQyD5mYxmIPKzbDplht7GyTMekQdpvjyInUsIIR89V8SJA9b/to+ON427173YPI/cipp7VMBuU+6upbztXv+b2LnO2Op5s546ZCGxPPn2LTTpb9bhvLV71whXJxm/nMHjLhsxIRlvMP3cNWMb5wJ2m5ZPDKTED6mc7oZOKci35IvfBKX4u90l0q23OsFWULflKPm7p4X6HuJ6RW6VQ/1TEw4bsfTThgi2lsrdLfeVu2K3mcd4xyF4L4UO+/qjGu6R9fc/HaEbInK3NkO+sszQDnf9kqJtkfW1sD5n306+cij7IE25rkgdHr9zFzlbznAEkZvFROGqo9vLKNu2dF/bRT1qnJU7kIY+NROHXJ3PTXnhvKTtFs6Rw+JCL6H3ccidT40VwwJ2Dwfv2Omy635+4XtzV2fjedHGo16I1uOS2H11IKvIfZDimYxkIPLTZLS2i+ZKDjithnI83eZXs1xzs6eI+ddPvdDvTwj5KLkyTpwYrD143ZAZC519bDw+wfQTP2G4hEXsY0P/hsr2Mib977iEkouhfXcuAafygq2Gu2XdOcNGityXYFvpoJyJH4eUE5dCNutz6nWBg7A+F3zPKEjeLmH6nW2Xs5RIo82qB+qbfFluaeK1PVfHgtg2W92U5S7OHovv8YTZwvKk/01AtY15IPSCQTu/Mo79xwkhsX22wc4Wlif1tgkdKhvftrKRQodl/dXk/dLEa/ktMh1pEFs+MCx0CBb5ue1c6E6KtsXU12Qd893vIwZtyF/zV1DSlOvO+lEDnpfScZHOlv+8JjpPKXR0a2my+x2sbj8+WQRiwmH98c5bKCXIGIExq4dWRx4fAP4YqbRfjP3m5in90UA1UwUU2eWnbGH1ruNRL0TpsT7PfSjSPJNR9C+/zsEGNt5NBzJ6sgjYQqVd51ftfP6a5ZMWEfMvIYT4/OmTTz75t37ww1DAblN+JFMfGCES7W0D3bC47PIIISSRzbrbywJypRGfWzg3vjNICCGEuHJ1VuI274swkrhQNEII+WgpYPeOJVeUEEIIIR8dV8SJq6C+QuOEEEKiKNSKfNFFCCGEEODDO3EySbedR+7UHkZJCCEfM/735koLYBglIYQQQoCrlRNHCCGEEEIIISSJD7wSRwghhBBCCCEkDXTiCCGEEEIIIWSEoBNHCCGEEEIIISMEnThCCCGEEEIIGSHoxBFCCCGEEELICEEnjhBCCCGEEEJGCDpxhBBCCCGEEDJC0IkjhBBCCCGEkBGCThwhhBBCCCGEjBB04gghhBBCCCFkhKATRwghhBBCCCEjxP8D7kdpWzytlakAAAAASUVORK5CYII=)"
      ],
      "metadata": {
        "id": "b14hkbCaqPTx"
      }
    },
    {
      "cell_type": "code",
      "source": [
        "# Another way to do it with GridSearchCV\n",
        "\n",
        "np.random.seed(42)\n",
        "from sklearn.model_selection import GridSearchCV\n",
        "\n",
        "# Define the parameters to search over in dictionary form\n",
        "# (these can be any of your target model's hyperparameters)\n",
        "param_grid = {'n_estimators': [i for i in range(100, 200, 10)]}\n",
        "\n",
        "# Setup the grid search\n",
        "grid = GridSearchCV(estimator=RandomForestClassifier(),\n",
        "                    param_grid=param_grid,\n",
        "                    cv=5,\n",
        "                    verbose=1)\n",
        "\n",
        "# Fit the grid search to the data\n",
        "grid.fit(x, y)\n",
        "\n",
        "# Find the best parameters\n",
        "print(f\"The best parameter values are: {grid.best_params_}\")\n",
        "print(f\"With a score of: {grid.best_score_*100:.2f}%\")"
      ],
      "metadata": {
        "id": "kOl9t39Up3Cg",
        "colab": {
          "base_uri": "https://localhost:8080/"
        },
        "outputId": "f4301275-c087-4b9a-e7ba-e706393881e1"
      },
      "execution_count": 30,
      "outputs": [
        {
          "output_type": "stream",
          "name": "stdout",
          "text": [
            "Fitting 5 folds for each of 10 candidates, totalling 50 fits\n",
            "The best parameter values are: {'n_estimators': 100}\n",
            "With a score of: 99.71%\n"
          ]
        }
      ]
    },
    {
      "cell_type": "markdown",
      "source": [
        "We can extract the best model/estimator with best_estimator attribute"
      ],
      "metadata": {
        "id": "xC_dlfUf7psF"
      }
    },
    {
      "cell_type": "code",
      "source": [
        "# seth the model to be the best estimator\n",
        "clf = grid.best_estimator_\n",
        "clf"
      ],
      "metadata": {
        "colab": {
          "base_uri": "https://localhost:8080/",
          "height": 74
        },
        "id": "1GKzM-ix7dVg",
        "outputId": "6ca9ed7b-a0f9-4073-bc77-74ee6832f719"
      },
      "execution_count": 31,
      "outputs": [
        {
          "output_type": "execute_result",
          "data": {
            "text/plain": [
              "RandomForestClassifier()"
            ],
            "text/html": [
              "<style>#sk-container-id-2 {color: black;background-color: white;}#sk-container-id-2 pre{padding: 0;}#sk-container-id-2 div.sk-toggleable {background-color: white;}#sk-container-id-2 label.sk-toggleable__label {cursor: pointer;display: block;width: 100%;margin-bottom: 0;padding: 0.3em;box-sizing: border-box;text-align: center;}#sk-container-id-2 label.sk-toggleable__label-arrow:before {content: \"▸\";float: left;margin-right: 0.25em;color: #696969;}#sk-container-id-2 label.sk-toggleable__label-arrow:hover:before {color: black;}#sk-container-id-2 div.sk-estimator:hover label.sk-toggleable__label-arrow:before {color: black;}#sk-container-id-2 div.sk-toggleable__content {max-height: 0;max-width: 0;overflow: hidden;text-align: left;background-color: #f0f8ff;}#sk-container-id-2 div.sk-toggleable__content pre {margin: 0.2em;color: black;border-radius: 0.25em;background-color: #f0f8ff;}#sk-container-id-2 input.sk-toggleable__control:checked~div.sk-toggleable__content {max-height: 200px;max-width: 100%;overflow: auto;}#sk-container-id-2 input.sk-toggleable__control:checked~label.sk-toggleable__label-arrow:before {content: \"▾\";}#sk-container-id-2 div.sk-estimator input.sk-toggleable__control:checked~label.sk-toggleable__label {background-color: #d4ebff;}#sk-container-id-2 div.sk-label input.sk-toggleable__control:checked~label.sk-toggleable__label {background-color: #d4ebff;}#sk-container-id-2 input.sk-hidden--visually {border: 0;clip: rect(1px 1px 1px 1px);clip: rect(1px, 1px, 1px, 1px);height: 1px;margin: -1px;overflow: hidden;padding: 0;position: absolute;width: 1px;}#sk-container-id-2 div.sk-estimator {font-family: monospace;background-color: #f0f8ff;border: 1px dotted black;border-radius: 0.25em;box-sizing: border-box;margin-bottom: 0.5em;}#sk-container-id-2 div.sk-estimator:hover {background-color: #d4ebff;}#sk-container-id-2 div.sk-parallel-item::after {content: \"\";width: 100%;border-bottom: 1px solid gray;flex-grow: 1;}#sk-container-id-2 div.sk-label:hover label.sk-toggleable__label {background-color: #d4ebff;}#sk-container-id-2 div.sk-serial::before {content: \"\";position: absolute;border-left: 1px solid gray;box-sizing: border-box;top: 0;bottom: 0;left: 50%;z-index: 0;}#sk-container-id-2 div.sk-serial {display: flex;flex-direction: column;align-items: center;background-color: white;padding-right: 0.2em;padding-left: 0.2em;position: relative;}#sk-container-id-2 div.sk-item {position: relative;z-index: 1;}#sk-container-id-2 div.sk-parallel {display: flex;align-items: stretch;justify-content: center;background-color: white;position: relative;}#sk-container-id-2 div.sk-item::before, #sk-container-id-2 div.sk-parallel-item::before {content: \"\";position: absolute;border-left: 1px solid gray;box-sizing: border-box;top: 0;bottom: 0;left: 50%;z-index: -1;}#sk-container-id-2 div.sk-parallel-item {display: flex;flex-direction: column;z-index: 1;position: relative;background-color: white;}#sk-container-id-2 div.sk-parallel-item:first-child::after {align-self: flex-end;width: 50%;}#sk-container-id-2 div.sk-parallel-item:last-child::after {align-self: flex-start;width: 50%;}#sk-container-id-2 div.sk-parallel-item:only-child::after {width: 0;}#sk-container-id-2 div.sk-dashed-wrapped {border: 1px dashed gray;margin: 0 0.4em 0.5em 0.4em;box-sizing: border-box;padding-bottom: 0.4em;background-color: white;}#sk-container-id-2 div.sk-label label {font-family: monospace;font-weight: bold;display: inline-block;line-height: 1.2em;}#sk-container-id-2 div.sk-label-container {text-align: center;}#sk-container-id-2 div.sk-container {/* jupyter's `normalize.less` sets `[hidden] { display: none; }` but bootstrap.min.css set `[hidden] { display: none !important; }` so we also need the `!important` here to be able to override the default hidden behavior on the sphinx rendered scikit-learn.org. See: https://github.com/scikit-learn/scikit-learn/issues/21755 */display: inline-block !important;position: relative;}#sk-container-id-2 div.sk-text-repr-fallback {display: none;}</style><div id=\"sk-container-id-2\" class=\"sk-top-container\"><div class=\"sk-text-repr-fallback\"><pre>RandomForestClassifier()</pre><b>In a Jupyter environment, please rerun this cell to show the HTML representation or trust the notebook. <br />On GitHub, the HTML representation is unable to render, please try loading this page with nbviewer.org.</b></div><div class=\"sk-container\" hidden><div class=\"sk-item\"><div class=\"sk-estimator sk-toggleable\"><input class=\"sk-toggleable__control sk-hidden--visually\" id=\"sk-estimator-id-2\" type=\"checkbox\" checked><label for=\"sk-estimator-id-2\" class=\"sk-toggleable__label sk-toggleable__label-arrow\">RandomForestClassifier</label><div class=\"sk-toggleable__content\"><pre>RandomForestClassifier()</pre></div></div></div></div></div>"
            ]
          },
          "metadata": {},
          "execution_count": 31
        }
      ]
    },
    {
      "cell_type": "markdown",
      "source": [
        "We got the best criss-validated model we can fit and score it on our original single train/test split of the data."
      ],
      "metadata": {
        "id": "3HsZsWG79QAJ"
      }
    },
    {
      "cell_type": "code",
      "source": [
        "# Fit the model\n",
        "\n",
        "clf = clf.fit(x_train, y_train)\n",
        "\n",
        "# Find the best model scores on our single test split\n",
        "#  note: this may be lower than the cross-validation score since it's only on the split of the data)\n",
        "\n",
        "print(f\"Best model score on single split of the data: {clf.score(x_test, y_test)*100:.2f}%\")\n"
      ],
      "metadata": {
        "colab": {
          "base_uri": "https://localhost:8080/"
        },
        "id": "3R9UhEYf9OUP",
        "outputId": "7313e413-4b9c-4d54-fd56-02ea177faa49"
      },
      "execution_count": 33,
      "outputs": [
        {
          "output_type": "stream",
          "name": "stdout",
          "text": [
            "Best model score on single split of the data: 100.00%\n"
          ]
        }
      ]
    },
    {
      "cell_type": "markdown",
      "source": [
        "## Saving the model to use by anyone"
      ],
      "metadata": {
        "id": "87seqNjH-ZAC"
      }
    },
    {
      "cell_type": "markdown",
      "source": [
        "use scikit learn model using python's in built pickle module but for larger model use joblib"
      ],
      "metadata": {
        "id": "c4U-lXV6-h8F"
      }
    },
    {
      "cell_type": "code",
      "source": [
        "import joblib\n",
        "\n",
        "joblib.dump(model, 'random_forest_model.pkl')"
      ],
      "metadata": {
        "colab": {
          "base_uri": "https://localhost:8080/"
        },
        "id": "4RRILPIX-Sym",
        "outputId": "af872f7b-9e98-49c6-82f1-8a51abd62d81"
      },
      "execution_count": 44,
      "outputs": [
        {
          "output_type": "execute_result",
          "data": {
            "text/plain": [
              "['random_forest_model.pkl']"
            ]
          },
          "metadata": {},
          "execution_count": 44
        }
      ]
    },
    {
      "cell_type": "code",
      "source": [
        "from google.colab import drive\n",
        "drive.mount('/content/drive')\n",
        "\n",
        "# copy the model to google drive\n",
        "!cp random_forest_model.pkl /content/drive/MyDrive/"
      ],
      "metadata": {
        "colab": {
          "base_uri": "https://localhost:8080/"
        },
        "id": "wrC1cJ7zGLjU",
        "outputId": "f7d8bb90-78f2-4009-aadb-7039efbf9d58"
      },
      "execution_count": 46,
      "outputs": [
        {
          "output_type": "stream",
          "name": "stdout",
          "text": [
            "Mounted at /content/drive\n"
          ]
        }
      ]
    },
    {
      "cell_type": "code",
      "source": [
        "model = joblib.load('/content/drive/MyDrive/random_forest_model.pkl')"
      ],
      "metadata": {
        "id": "iyt8pmKHHunE"
      },
      "execution_count": 47,
      "outputs": []
    },
    {
      "cell_type": "code",
      "source": [
        "from google.colab import files\n",
        "\n",
        "# Download the model\n",
        "files.download('/content/random_forest_model.pkl')"
      ],
      "metadata": {
        "colab": {
          "base_uri": "https://localhost:8080/",
          "height": 17
        },
        "id": "GeAYDhAxD-0u",
        "outputId": "28b7c969-ce7c-4325-cbfe-bacee8f4f5d9"
      },
      "execution_count": 48,
      "outputs": [
        {
          "output_type": "display_data",
          "data": {
            "text/plain": [
              "<IPython.core.display.Javascript object>"
            ],
            "application/javascript": [
              "\n",
              "    async function download(id, filename, size) {\n",
              "      if (!google.colab.kernel.accessAllowed) {\n",
              "        return;\n",
              "      }\n",
              "      const div = document.createElement('div');\n",
              "      const label = document.createElement('label');\n",
              "      label.textContent = `Downloading \"${filename}\": `;\n",
              "      div.appendChild(label);\n",
              "      const progress = document.createElement('progress');\n",
              "      progress.max = size;\n",
              "      div.appendChild(progress);\n",
              "      document.body.appendChild(div);\n",
              "\n",
              "      const buffers = [];\n",
              "      let downloaded = 0;\n",
              "\n",
              "      const channel = await google.colab.kernel.comms.open(id);\n",
              "      // Send a message to notify the kernel that we're ready.\n",
              "      channel.send({})\n",
              "\n",
              "      for await (const message of channel.messages) {\n",
              "        // Send a message to notify the kernel that we're ready.\n",
              "        channel.send({})\n",
              "        if (message.buffers) {\n",
              "          for (const buffer of message.buffers) {\n",
              "            buffers.push(buffer);\n",
              "            downloaded += buffer.byteLength;\n",
              "            progress.value = downloaded;\n",
              "          }\n",
              "        }\n",
              "      }\n",
              "      const blob = new Blob(buffers, {type: 'application/binary'});\n",
              "      const a = document.createElement('a');\n",
              "      a.href = window.URL.createObjectURL(blob);\n",
              "      a.download = filename;\n",
              "      div.appendChild(a);\n",
              "      a.click();\n",
              "      div.remove();\n",
              "    }\n",
              "  "
            ]
          },
          "metadata": {}
        },
        {
          "output_type": "display_data",
          "data": {
            "text/plain": [
              "<IPython.core.display.Javascript object>"
            ],
            "application/javascript": [
              "download(\"download_734c6cb5-e16f-4b0e-98bf-e53f496291bb\", \"random_forest_model.pkl\", 2041161)"
            ]
          },
          "metadata": {}
        }
      ]
    }
  ]
}